{
 "cells": [
  {
   "cell_type": "markdown",
   "metadata": {
    "collapsed": true,
    "pycharm": {
     "name": "#%% md\n"
    }
   },
   "source": [
    "## 二分查找(Binary Search)\n",
    ">二分查找又称折半查找，优点是比较次数少，查找速度快，平均性能好；\n",
    ">其缺点是要求待查表为有序表，且插入删除困难。因此，折半查找方法适用于不经常变动\n",
    ">而查找频繁的有序列表。首先，假设表中元素是按升序排列，将表中间位置记录的关键字\n",
    ">与查找关键字比较，如果两者相等，则查找成功；否则利用中间位置记录将表分成前、后\n",
    ">两个子表，如果中间位置记录的关键字大于查找关键字，则进一步查找前一子表，\n",
    ">否则进一步查找后一子表。重复以上过程，直到找到满足条件的记录，使查找成功，\n",
    ">或直到子表不存在为止，此时查找不成功。\n",
    "\n",
    "### 二分查找示意图\n",
    "![二分查找示意图](/DataStructure/image/binary_search.png)"
   ]
  },
  {
   "cell_type": "code",
   "execution_count": 5,
   "outputs": [],
   "source": [
    "def binary_search(alist, item):\n",
    "    \"\"\"二分查找\"\"\"\n",
    "    first = 0\n",
    "    last = len(alist)-1\n",
    "    while first<=last:\n",
    "        mid = (first + last)//2\n",
    "        if alist[mid] == item:\n",
    "            return True\n",
    "        elif item < alist[mid]:\n",
    "            last = mid - 1\n",
    "        else:\n",
    "            first = mid + 1\n",
    "    return False\n",
    "\n",
    "def binary_search_recursive(alist, item):\n",
    "    \"\"\"二分查找(递归方式)\"\"\"\n",
    "    if len(alist) == 0:\n",
    "        return False\n",
    "    else:\n",
    "        mid = len(alist)//2\n",
    "        if alist[mid]==item:\n",
    "            return True\n",
    "        else:\n",
    "            if item<alist[mid]:\n",
    "                return binary_search(alist[:mid],item)\n",
    "            else:\n",
    "                return binary_search(alist[mid+1:],item)"
   ],
   "metadata": {
    "collapsed": false,
    "pycharm": {
     "name": "#%% 代码实现\n",
     "is_executing": false
    }
   }
  },
  {
   "cell_type": "code",
   "execution_count": 6,
   "outputs": [
    {
     "name": "stdout",
     "text": [
      "False\nTrue\nFalse\nTrue\n"
     ],
     "output_type": "stream"
    }
   ],
   "source": [
    "if __name__ == '__main__':\n",
    "    testlist = [0, 1, 2, 8, 13, 17, 19, 32, 42]\n",
    "    print(binary_search(testlist, 3))\n",
    "    print(binary_search(testlist, 13))\n",
    "    print(binary_search_recursive(testlist, 3))\n",
    "    print(binary_search_recursive(testlist, 13))"
   ],
   "metadata": {
    "collapsed": false,
    "pycharm": {
     "name": "#%% 测试数据\n",
     "is_executing": false
    }
   }
  }
 ],
 "metadata": {
  "kernelspec": {
   "display_name": "Python 3",
   "language": "python",
   "name": "python3"
  },
  "language_info": {
   "codemirror_mode": {
    "name": "ipython",
    "version": 2
   },
   "file_extension": ".py",
   "mimetype": "text/x-python",
   "name": "python",
   "nbconvert_exporter": "python",
   "pygments_lexer": "ipython2",
   "version": "2.7.6"
  },
  "pycharm": {
   "stem_cell": {
    "cell_type": "raw",
    "source": [],
    "metadata": {
     "collapsed": false
    }
   }
  }
 },
 "nbformat": 4,
 "nbformat_minor": 0
}