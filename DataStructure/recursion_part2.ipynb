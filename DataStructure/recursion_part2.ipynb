{
 "cells": [
  {
   "cell_type": "markdown",
   "metadata": {
    "collapsed": true,
    "pycharm": {
     "name": "#%% md\n"
    }
   },
   "source": [
    "## 递归图示"
   ]
  },
  {
   "cell_type": "code",
   "execution_count": 1,
   "outputs": [],
   "source": [
    "import turtle\n",
    "\n",
    "def fibonacci(n):\n",
    "    a, b = 0, 1\n",
    "    while n > 0:\n",
    "        a, b = b, a + b\n",
    "        n -= 1\n",
    "    return a\n",
    "\n",
    "def draw_spiral(t, line_len):\n",
    "    \"\"\"绘制螺线\"\"\"\n",
    "    if line_len > 0:\n",
    "        t.forward(line_len)\n",
    "        t.right(90)\n",
    "        draw_spiral(t, line_len-5)        \n",
    "\n",
    "def draw_fibonacci_spiral(t, n):\n",
    "    \"\"\"绘制斐波那契螺旋线\"\"\"\n",
    "    LINE_LEN=10\n",
    "    if n > 0:\n",
    "        t.color(\"blue\")\n",
    "        t.pensize(1)\n",
    "        for _ in range(4):\n",
    "            t.forward(fibonacci(n)*LINE_LEN)\n",
    "            t.left(90)\n",
    "\n",
    "        t.color(\"red\")\n",
    "        t.pensize(2)\n",
    "        t.circle(fibonacci(n)*LINE_LEN,90)\n",
    "        \n",
    "        draw_fibonacci_spiral(t, n-1)\n",
    "\n"
   ],
   "metadata": {
    "collapsed": false,
    "pycharm": {
     "name": "#%% 代码实现\n",
     "is_executing": false
    }
   }
  },
  {
   "cell_type": "code",
   "execution_count": 2,
   "outputs": [],
   "source": [
    "if __name__ == '__main__':\n",
    "    # 螺线\n",
    "    t = turtle.Turtle()\n",
    "    screen = turtle.Screen()\n",
    "    t.penup()\n",
    "    # 调整画笔起始位置\n",
    "    t.goto(400 - screen.window_width()/2, screen.window_height()/2 - 400)\n",
    "    t.pendown()\n",
    "    t.right(270)\n",
    "    # 绘制螺线\n",
    "    draw_spiral(t, 200)\n",
    "    # 绘制斐波那契螺旋线\n",
    "    draw_fibonacci_spiral(t, 8)\n",
    "    t.hideturtle()\n",
    "    screen.exitonclick()\n",
    "    "
   ],
   "metadata": {
    "collapsed": false,
    "pycharm": {
     "name": "#%% 测试数据\n",
     "is_executing": false
    }
   }
  }
 ],
 "metadata": {
  "kernelspec": {
   "display_name": "Python 3",
   "language": "python",
   "name": "python3"
  },
  "language_info": {
   "codemirror_mode": {
    "name": "ipython",
    "version": 2
   },
   "file_extension": ".py",
   "mimetype": "text/x-python",
   "name": "python",
   "nbconvert_exporter": "python",
   "pygments_lexer": "ipython2",
   "version": "2.7.6"
  },
  "pycharm": {
   "stem_cell": {
    "cell_type": "raw",
    "source": [],
    "metadata": {
     "collapsed": false
    }
   }
  }
 },
 "nbformat": 4,
 "nbformat_minor": 0
}