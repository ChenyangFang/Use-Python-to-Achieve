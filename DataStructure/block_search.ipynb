{
 "cells": [
  {
   "cell_type": "markdown",
   "metadata": {
    "collapsed": true,
    "pycharm": {
     "name": "#%% md\n"
    }
   },
   "source": [
    "## 分块查找(Block Search)\n",
    ">要求是顺序表，分块查找又称索引顺序查找，它是顺序查找的一种改进方法。\n",
    ">将n个数据元素\"按块有序\"划分为m块（m ≤ n）。每一块中的结点不必有序，\n",
    ">但块与块之间必须\"按块有序\"；即第1块中任一元素的关键字都必须小于第2块中\n",
    ">任一元素的关键字；而第2块中任一元素又都必须小于第3块中的任一元素。\n",
    ">分块查找首先按照一定的取值范围将数列分成数块，块内的元素可以是无序的，\n",
    ">但块必须是有序的(处于后面位置的块的最小元素要比前一个块的最大元素大)，\n",
    ">在分块完成后，再确定key值(需要查找的值)所处与块的区间，\n",
    ">最后用顺序排序法逐一比对。\n",
    ">分块查找又称索引顺序查找，它是顺序查找的一种改进方法。\n",
    "分块查找由于只要求索引表是有序的，对块内节点没有排序要求，因此特别适合于节点动态变化的情况。\n",
    "\n",
    "## 算法流程\n",
    "1. 先选取各块中的最大关键字构成一个索引表；\n",
    "2. 查找分两个部分：先对索引表进行二分查找或顺序查找，以确定待查记录在哪一块中；\n",
    "3. 在已确定的块中用顺序法进行查找。\n",
    "\n",
    "## 算法分析\n",
    "时间复杂度：O(log(m)+N/m)\n",
    "数据量过大，建立完整的稠密索引耗时耗力，占用资源过多；但如果不做任何排序或者索引，那么遍历的查找也无法接受，只能折中，做一定程度的排序或索引。\n",
    "分块索引的效率比遍历查找的O(n)要高一些，但与二分查找的O(logn)还是要差不少。O(log(m)+N/m)\n"
   ]
  },
  {
   "cell_type": "code",
   "execution_count": 101,
   "outputs": [],
   "source": [
    "from typing import List\n",
    "\n",
    "def blocking(arr:List[int],n):\n",
    "    \"\"\"\n",
    "    分块函数\n",
    "    :param arr: 目标List\n",
    "    :param n: 分块的数量\n",
    "    :return: \n",
    "    \"\"\"\n",
    "    max_item = max(arr)\n",
    "    min_item = min(arr)\n",
    "    step = (max_item-min_item)//n\n",
    "    index_list = [min_item+i*step for i in range(n-1)]\n",
    "    index_list.append(max_item)\n",
    "\n",
    "    blocked_list = [[] for _ in range(n)]\n",
    "    \n",
    "    for item in arr:\n",
    "        for i,ele in enumerate(index_list):\n",
    "            if item <= ele:\n",
    "                blocked_list[i].append(item)\n",
    "                break\n",
    "        \n",
    "    return blocked_list,index_list\n",
    "\n",
    "def block_search(arr:List[int],n,key):\n",
    "    \"\"\"\n",
    "    分块查找\n",
    "    :param arr: 目标List\n",
    "    :param n: 分块的数量\n",
    "    :param key: 查找对象\n",
    "    :return: 找到返回True,找不到返回False\n",
    "    \"\"\"\n",
    "    # 分块\n",
    "    max_item = max(arr)\n",
    "    min_item = min(arr)\n",
    "    step = (max_item-min_item)//n\n",
    "    index_list = [min_item+i*step for i in range(n-1)]\n",
    "    index_list.append(max_item)\n",
    "\n",
    "    blocked_list = [[] for _ in range(n)]\n",
    "    \n",
    "    for item in arr:\n",
    "        for i,ele in enumerate(index_list):\n",
    "            if item <= ele:\n",
    "                blocked_list[i].append(item)\n",
    "                break\n",
    "    # 查找\n",
    "    for i,ele in enumerate(index_list):\n",
    "        if key <= ele:\n",
    "            if key in blocked_list[i]:\n",
    "                return True   \n",
    "    return False"
   ],
   "metadata": {
    "collapsed": false,
    "pycharm": {
     "name": "#%% 代码实现\n",
     "is_executing": false
    }
   }
  },
  {
   "cell_type": "code",
   "execution_count": 102,
   "outputs": [
    {
     "name": "stdout",
     "text": [
      "原始数据为： [4, 5, 6, 17, 8, 9, 11, 2, 3]\n输出结果为： True\n"
     ],
     "output_type": "stream"
    }
   ],
   "source": [
    "if __name__ == '__main__':    \n",
    "    arr = [4,5,6,17,8,9,11,2,3]\n",
    "    print(\"原始数据为：\", arr)\n",
    "    print(\"输出结果为：\", block_search(arr,3,11))"
   ],
   "metadata": {
    "collapsed": false,
    "pycharm": {
     "name": "#%% 测试数据\n",
     "is_executing": false
    }
   }
  }
 ],
 "metadata": {
  "kernelspec": {
   "display_name": "Python 3",
   "language": "python",
   "name": "python3"
  },
  "language_info": {
   "codemirror_mode": {
    "name": "ipython",
    "version": 2
   },
   "file_extension": ".py",
   "mimetype": "text/x-python",
   "name": "python",
   "nbconvert_exporter": "python",
   "pygments_lexer": "ipython2",
   "version": "2.7.6"
  },
  "pycharm": {
   "stem_cell": {
    "cell_type": "raw",
    "source": [],
    "metadata": {
     "collapsed": false
    }
   }
  }
 },
 "nbformat": 4,
 "nbformat_minor": 0
}