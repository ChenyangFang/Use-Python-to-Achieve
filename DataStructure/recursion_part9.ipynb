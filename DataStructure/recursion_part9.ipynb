{
 "cells": [
  {
   "cell_type": "markdown",
   "metadata": {
    "collapsed": true,
    "pycharm": {
     "name": "#%% md\n"
    }
   },
   "source": [
    "## 绘制科赫雪花"
   ]
  },
  {
   "cell_type": "code",
   "execution_count": 1,
   "outputs": [],
   "source": [
    "import turtle\n",
    "\n",
    "def koch(size,n,t):\n",
    "    \"\"\"\n",
    "    科赫雪花\n",
    "    :param size: 边长\n",
    "    :param n: 阶数\n",
    "    :param t: turtle实例\n",
    "    :return: \n",
    "    \"\"\"\n",
    "    if n == 0:\n",
    "        # 如果阶数下降到0，以size/（最大阶数）作为长度，\n",
    "        # angle作为偏移角度来绘制一条直线\n",
    "        t.fd(size) \n",
    "    else:\n",
    "        for angle in [0,60,-120,60]: \n",
    "            # 循环从angle = 0开始, 经过angle = 60，再到angle = -120， \n",
    "            # 最后到angle = 60结束，一共循环4次\n",
    "            t.left(angle)  # 画笔移动方向向顺时针旋转angle度\n",
    "            koch(size/3, n-1,t)   # 递归执行函数\n",
    "            "
   ],
   "metadata": {
    "collapsed": false,
    "pycharm": {
     "name": "#%% 代码实现\n",
     "is_executing": false
    }
   }
  },
  {
   "cell_type": "code",
   "execution_count": 2,
   "outputs": [],
   "source": [
    "if __name__ == '__main__':\n",
    "    TURTLE_SIZE=300\n",
    "    t = turtle.Turtle()\n",
    "    screen = turtle.Screen()\n",
    "    t.penup()\n",
    "    t.goto(TURTLE_SIZE/2- screen.window_width()/2,screen.window_height()/2-TURTLE_SIZE/2)\n",
    "    t.pendown()\n",
    "    n = 3   # 定义阶数\n",
    "    polygon_num = 3 # 定义绘制几边形雪花\n",
    "    for _ in range(polygon_num):\n",
    "        koch(n*300/polygon_num,n,t)\n",
    "        t.right(360/polygon_num)\n",
    "        \n",
    "    t.hideturtle()\n",
    "    screen.exitonclick()"
   ],
   "metadata": {
    "collapsed": false,
    "pycharm": {
     "name": "#%% 测试数据\n",
     "is_executing": false
    }
   }
  }
 ],
 "metadata": {
  "kernelspec": {
   "display_name": "Python 3",
   "language": "python",
   "name": "python3"
  },
  "language_info": {
   "codemirror_mode": {
    "name": "ipython",
    "version": 2
   },
   "file_extension": ".py",
   "mimetype": "text/x-python",
   "name": "python",
   "nbconvert_exporter": "python",
   "pygments_lexer": "ipython2",
   "version": "2.7.6"
  },
  "pycharm": {
   "stem_cell": {
    "cell_type": "raw",
    "source": [],
    "metadata": {
     "collapsed": false
    }
   }
  }
 },
 "nbformat": 4,
 "nbformat_minor": 0
}