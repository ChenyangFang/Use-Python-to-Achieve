{
 "cells": [
  {
   "cell_type": "markdown",
   "metadata": {
    "collapsed": true,
    "pycharm": {
     "name": "#%% md\n"
    }
   },
   "source": [
    "## 制希尔伯特曲线"
   ]
  },
  {
   "cell_type": "code",
   "execution_count": 1,
   "outputs": [],
   "source": [
    "import turtle\n",
    "\n",
    "def hilbert(level, angle, t, size = 10):\n",
    "    \"\"\"\n",
    "    绘制希尔伯特曲线\n",
    "    :param level: 层数\n",
    "    :param angle: 角度\n",
    "    :param t: turtle实例\n",
    "    :param size: 步长\n",
    "    :return: \n",
    "    \"\"\"\n",
    "    if level == 0:\n",
    "        return\n",
    "\n",
    "    t.color(\"Blue\")\n",
    "    t.speed(30)\n",
    "\n",
    "    t.right(angle)\n",
    "    hilbert(level - 1, -angle, t)\n",
    "    t.forward(size)\n",
    "    t.left(angle)\n",
    "    hilbert(level - 1, angle, t)\n",
    "    t.forward(size)\n",
    "    hilbert(level - 1, angle, t)\n",
    "    t.left(angle)\n",
    "    t.forward(size)\n",
    "    hilbert(level - 1, -angle, t)\n",
    "    t.right(angle)\n",
    "\n",
    "\n",
    "if __name__ == '__main__':\n",
    "    TURTLE_SIZE =10\n",
    "    t = turtle.Turtle()\n",
    "    screen = turtle.Screen()\n",
    "    t.penup()\n",
    "    t.goto(TURTLE_SIZE/2 - screen.window_width()/2, screen.window_height()/2 - TURTLE_SIZE/2)\n",
    "    t.pendown()\n",
    "\n",
    "    hilbert(5,90,t)\n",
    "    \n",
    "    t.hideturtle()\n",
    "    screen.exitonclick()"
   ],
   "metadata": {
    "collapsed": false,
    "pycharm": {
     "name": "#%% 代码实现\n",
     "is_executing": false
    }
   }
  }
 ],
 "metadata": {
  "kernelspec": {
   "display_name": "Python 3",
   "language": "python",
   "name": "python3"
  },
  "language_info": {
   "codemirror_mode": {
    "name": "ipython",
    "version": 2
   },
   "file_extension": ".py",
   "mimetype": "text/x-python",
   "name": "python",
   "nbconvert_exporter": "python",
   "pygments_lexer": "ipython2",
   "version": "2.7.6"
  },
  "pycharm": {
   "stem_cell": {
    "cell_type": "raw",
    "source": [],
    "metadata": {
     "collapsed": false
    }
   }
  }
 },
 "nbformat": 4,
 "nbformat_minor": 0
}