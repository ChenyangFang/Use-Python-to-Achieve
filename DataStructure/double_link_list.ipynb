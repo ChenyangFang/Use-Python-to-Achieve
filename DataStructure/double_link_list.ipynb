{
 "cells": [
  {
   "cell_type": "markdown",
   "metadata": {
    "collapsed": true,
    "pycharm": {
     "name": "#%% md\n"
    }
   },
   "source": [
    "## 双向链表\n",
    ">一种更复杂的链表是“双向链表”或“双面链表”。每个节点有两个链接：一个指向前一个节点，当此节点为第一个节点时，指向空值；而另一个指向下一个节点，\n",
    ">当此节点为最后一个节点时，指向空值。\n",
    "\n",
    "### 节点示意图\n",
    "![双向链表节点示意图](/DataStructure/image/double_link_list_node.png)\n",
    "- 表元素域elem用来存放具体的数据。\n",
    "- 链接域prev用来存放上一个节点的位置（python中的标识）\n",
    "- 链接域next用来存放下一个节点的位置（python中的标识）\n",
    "\n",
    "### 双向链表示意图\n",
    "![双向链表示意图](https://raw.githubusercontent.com/lb971216008/Use-Python-to-Achieve/master/DataStructure/image/double_link_list.png)"
   ]
  },
  {
   "cell_type": "code",
   "execution_count": 3,
   "outputs": [],
   "source": [
    "# 节点的实现\n",
    "class Node(object):\n",
    "    \"\"\"双向链表节点\"\"\"\n",
    "    def __init__(self, item):\n",
    "        self.item = item\n",
    "        self.next = None\n",
    "        self.prev = None\n",
    "\n",
    "\n",
    "class DoubleLinkList(object):\n",
    "    \"\"\"双向链表\"\"\"\n",
    "    def __init__(self):\n",
    "        self._head = None\n",
    "\n",
    "    def is_empty(self):\n",
    "        \"\"\"判断链表是否为空\"\"\"\n",
    "        return self._head is None\n",
    "\n",
    "    def length(self):\n",
    "        \"\"\"返回链表的长度\"\"\"\n",
    "        cur = self._head\n",
    "        count = 0\n",
    "        while cur is not None :\n",
    "            count += 1\n",
    "            cur = cur.next\n",
    "        return count\n",
    "\n",
    "    def travel(self):\n",
    "        \"\"\"遍历链表\"\"\"\n",
    "        cur = self._head\n",
    "        while cur is not None:\n",
    "            print(cur.item)\n",
    "            cur = cur.next\n",
    "        print(\"\")\n",
    "\n",
    "    def add(self, item):\n",
    "        \"\"\"头部插入元素\"\"\"\n",
    "        node = Node(item)\n",
    "        if self.is_empty():\n",
    "            # 如果是空链表，将_head指向node\n",
    "            self._head = node\n",
    "        else:\n",
    "            # 将node的next指向_head的头节点\n",
    "            node.next = self._head\n",
    "            # 将_head的头节点的prev指向node\n",
    "            self._head.prev = node\n",
    "            # 将_head 指向node\n",
    "            self._head = node\n",
    "\n",
    "    def append(self, item):\n",
    "        \"\"\"尾部插入元素\"\"\"\n",
    "        node = Node(item)\n",
    "        if self.is_empty():\n",
    "            # 如果是空链表，将_head指向node\n",
    "            self._head = node\n",
    "        else:\n",
    "            # 移动到链表尾部\n",
    "            cur = self._head\n",
    "            while cur.next is not None:\n",
    "                cur = cur.next\n",
    "            # 将尾节点cur的next指向node\n",
    "            cur.next = node\n",
    "            # 将node的prev指向cur\n",
    "            node.prev = cur\n",
    "\n",
    "    def search(self, item):\n",
    "        \"\"\"查找元素是否存在\"\"\"\n",
    "        cur = self._head\n",
    "        while cur is not None:\n",
    "            if cur.item == item:\n",
    "                return True\n",
    "            cur = cur.next\n",
    "        return False\n",
    "    \n",
    "    def insert(self, pos, item):\n",
    "        \"\"\"在指定位置添加节点\"\"\"\n",
    "        if pos <= 0:\n",
    "            self.add(item)\n",
    "        elif pos > (self.length()-1):\n",
    "            self.append(item)\n",
    "        else:\n",
    "            node = Node(item)\n",
    "            cur = self._head\n",
    "            count = 0\n",
    "            # 移动到指定位置的前一个位置\n",
    "            while count < (pos-1):\n",
    "                count += 1\n",
    "                cur = cur.next\n",
    "            # 将node的prev指向cur\n",
    "            node.prev = cur\n",
    "            # 将node的next指向cur的下一个节点\n",
    "            node.next = cur.next\n",
    "            # 将cur的下一个节点的prev指向node\n",
    "            cur.next.prev = node\n",
    "            # 将cur的next指向node\n",
    "            cur.next = node\n",
    "              \n",
    "    def remove(self, item):\n",
    "        \"\"\"删除元素\"\"\"\n",
    "        if self.is_empty():\n",
    "            return\n",
    "        else:\n",
    "            cur = self._head\n",
    "            if cur.item == item:\n",
    "                # 如果首节点的元素即是要删除的元素\n",
    "                if cur.next is None:\n",
    "                    # 如果链表只有这一个节点\n",
    "                    self._head = None\n",
    "                else:\n",
    "                    # 将第二个节点的prev设置为None\n",
    "                    cur.next.prev = None\n",
    "                    # 将_head指向第二个节点\n",
    "                    self._head = cur.next\n",
    "                return\n",
    "            while cur is not None:\n",
    "                if cur.item == item:\n",
    "                    # 将cur的前一个节点的next指向cur的后一个节点\n",
    "                    cur.prev.next = cur.next\n",
    "                    # 将cur的后一个节点的prev指向cur的前一个节点\n",
    "                    cur.next.prev = cur.prev\n",
    "                    break\n",
    "                cur = cur.next\n",
    "    "
   ],
   "metadata": {
    "collapsed": false,
    "pycharm": {
     "name": "#%% 代码实现\n",
     "is_executing": false
    }
   }
  },
  {
   "cell_type": "code",
   "execution_count": 4,
   "outputs": [
    {
     "name": "stdout",
     "text": [
      "length: 6\n6\n2\n1\n4\n3\n5\n\nTrue\nTrue\nlength: 5\n6\n2\n4\n3\n5\n\n"
     ],
     "output_type": "stream"
    }
   ],
   "source": [
    "if __name__ == \"__main__\":\n",
    "    dl_list = DoubleLinkList()\n",
    "    dl_list.add(1)\n",
    "    dl_list.add(2)\n",
    "    dl_list.append(3)\n",
    "    dl_list.insert(2, 4)\n",
    "    dl_list.insert(4, 5)\n",
    "    dl_list.insert(0, 6)\n",
    "    print(\"length:\",dl_list.length())\n",
    "    dl_list.travel()\n",
    "    print(dl_list.search(3))\n",
    "    print(dl_list.search(4))\n",
    "    dl_list.remove(1)\n",
    "    print(\"length:\",dl_list.length())\n",
    "    dl_list.travel()"
   ],
   "metadata": {
    "collapsed": false,
    "pycharm": {
     "name": "#%% 测试数据\n",
     "is_executing": false
    }
   }
  }
 ],
 "metadata": {
  "kernelspec": {
   "display_name": "Python 3",
   "language": "python",
   "name": "python3"
  },
  "language_info": {
   "codemirror_mode": {
    "name": "ipython",
    "version": 2
   },
   "file_extension": ".py",
   "mimetype": "text/x-python",
   "name": "python",
   "nbconvert_exporter": "python",
   "pygments_lexer": "ipython2",
   "version": "2.7.6"
  },
  "pycharm": {
   "stem_cell": {
    "cell_type": "raw",
    "source": [],
    "metadata": {
     "collapsed": false
    }
   }
  }
 },
 "nbformat": 4,
 "nbformat_minor": 0
}
