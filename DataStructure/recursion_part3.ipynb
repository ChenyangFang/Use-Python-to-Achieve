{
 "cells": [
  {
   "cell_type": "markdown",
   "metadata": {
    "collapsed": true,
    "pycharm": {
     "name": "#%% md\n"
    }
   },
   "source": [
    "## 绘制分形树"
   ]
  },
  {
   "cell_type": "code",
   "execution_count": 3,
   "outputs": [],
   "source": [
    "import turtle\n",
    "import random\n",
    "\n",
    "# 自定义树每一层的树枝长度\n",
    "branch_len_list = [3,5,8,13,21,34,55,89,144]\n",
    "\n",
    "def draw_tree(t:turtle.Turtle, num:int):\n",
    "    \"\"\"\n",
    "    递归绘制分形树\n",
    "    :param t: turtle实例\n",
    "    :param num: 分枝的层数\n",
    "    :return: \n",
    "    \"\"\"\n",
    "    degree = random.randint(15,45)\n",
    "    branch_len = branch_len_list[num]\n",
    "    # l = random.randint(8,12)\n",
    "    t.pensize(branch_len*0.1)\n",
    "    if num >0:\n",
    "        if branch_len < 20:\n",
    "            t.color('green')\n",
    "        else:\n",
    "            t.color('brown')\n",
    "        \n",
    "        # 绘制右侧的树枝\n",
    "        t.forward(branch_len)\n",
    "        t.right(degree)\n",
    "        draw_tree(t, num-1)\n",
    "        \n",
    "        # 绘制左侧侧的树枝\n",
    "        t.left(2*degree)\n",
    "        draw_tree(t, num-1)\n",
    "        \n",
    "        if branch_len < 20:\n",
    "            t.color('green')\n",
    "        else:\n",
    "            t.color('brown')\n",
    "            \n",
    "        # 返回之前的树枝上    \n",
    "        t.right(degree)\n",
    "        t.backward(branch_len)\n",
    "        \n",
    "def main_1():\n",
    "    t = turtle.Turtle()\n",
    "    screen = turtle.Screen()\n",
    "    t.left(90)\n",
    "    t.up()\n",
    "    t.back(150)\n",
    "    t.down()\n",
    "    draw_tree(t,8)\n",
    "    t.hideturtle()\n",
    "    screen.exitonclick()\n",
    "\n",
    "def draw_random_tree(branch_len,t):\n",
    "    \"\"\"\n",
    "    随机分枝画树\n",
    "    :param branch_len: 树枝长度\n",
    "    :param t: turtle实例\n",
    "    :return: \n",
    "    \"\"\"\n",
    "    if branch_len > 5:\n",
    "        if 8 <= branch_len <= 12:\n",
    "            if random.randint(0, 2) == 0:\n",
    "                t.color('snow')\n",
    "            else:\n",
    "                t.color('lightcoral')\n",
    "            t.pensize(branch_len / 3)\n",
    "        elif branch_len < 8:\n",
    "            if random.randint(0, 1) == 0:\n",
    "                t.color('snow')\n",
    "            else:\n",
    "                t.color('lightcoral')\n",
    "            t.pensize(branch_len / 2)\n",
    "        else:\n",
    "            t.color('sienna')\n",
    "            t.pensize(branch_len / 10)\n",
    "\n",
    "        t.forward(branch_len)\n",
    "        a = random.randrange(15,30)\n",
    "        t.right(a)\n",
    "        b = 15 * random.random()\n",
    "        draw_random_tree(branch_len-b,t)\n",
    "        t.left(2*a)\n",
    "        draw_random_tree(branch_len-b,t)\n",
    "        t.right(a)\n",
    "        t.up()\n",
    "        t.backward(branch_len)\n",
    "        t.down()\n",
    "\n",
    "def petal(n,t):\n",
    "    \"\"\"\n",
    "      画树下花瓣\n",
    "    :param n: 花瓣数量\n",
    "    :param t: turtle实例\n",
    "    :return: \n",
    "    \"\"\"\n",
    "    for i in range (n):        \n",
    "        a = 200 - 400*random.random()\n",
    "        b = 10 - 20 *random.random()\n",
    "        t.up()\n",
    "        t.forward(b)\n",
    "        t.left(90)\n",
    "        t.forward(a)\n",
    "        t.down()\n",
    "        t.color(\"lightcoral\")\n",
    "        t.circle(1)\n",
    "        t.up()\n",
    "        t.backward(a)\n",
    "        t.right(90)\n",
    "        t.backward(b)\n",
    "\n",
    "def main_2():\n",
    "    t = turtle.Turtle()\n",
    "    screen = turtle.Screen()\n",
    "    t.getscreen().tracer(5, 0)\n",
    "    screen.screensize(bg='wheat')\n",
    "    t.left(90)\n",
    "    t.up()\n",
    "    t.backward(300)\n",
    "    t.down()\n",
    "    t.color('sienna')\n",
    "    draw_random_tree(75,t)\n",
    "    petal(200,t)\n",
    "    t.hideturtle()\n",
    "    screen.exitonclick()"
   ],
   "metadata": {
    "collapsed": false,
    "pycharm": {
     "name": "#%% 代码实现\n",
     "is_executing": false
    }
   }
  },
  {
   "cell_type": "code",
   "execution_count": 4,
   "outputs": [],
   "source": [
    "if __name__ == '__main__':\n",
    "    # 固定分枝长度\n",
    "    # main_1()\n",
    "    \n",
    "    # 分枝长度随机\n",
    "    main_2()"
   ],
   "metadata": {
    "collapsed": false,
    "pycharm": {
     "name": "#%% 测试数据\n",
     "is_executing": false
    }
   }
  }
 ],
 "metadata": {
  "kernelspec": {
   "display_name": "Python 3",
   "language": "python",
   "name": "python3"
  },
  "language_info": {
   "codemirror_mode": {
    "name": "ipython",
    "version": 2
   },
   "file_extension": ".py",
   "mimetype": "text/x-python",
   "name": "python",
   "nbconvert_exporter": "python",
   "pygments_lexer": "ipython2",
   "version": "2.7.6"
  },
  "pycharm": {
   "stem_cell": {
    "cell_type": "raw",
    "source": [],
    "metadata": {
     "collapsed": false
    }
   }
  }
 },
 "nbformat": 4,
 "nbformat_minor": 0
}