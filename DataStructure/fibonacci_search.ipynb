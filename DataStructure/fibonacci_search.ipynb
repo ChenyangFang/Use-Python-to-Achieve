{
 "cells": [
  {
   "cell_type": "markdown",
   "metadata": {
    "collapsed": true,
    "pycharm": {
     "name": "#%% md\n"
    }
   },
   "source": [
    "## 斐波那契搜索(Fibonacci Search)\n",
    ">顾名思义，该查找方法利用了斐波那契数列，该方法的主要思路为，\n",
    ">先在斐波那契数列F中找到第k项，使其满足，\n",
    ">F(k) > 有序数组的最大索引号 > F(k-1)，\n",
    ">然后将数组扩充到长度为F(k)，并使扩充项的值都等于有序数组的最后一项。\n",
    ">分割点的索引为mid = low + F(k-1)，此时有序数组被mid划分为两段，\n",
    ">左段长度为F(k-1)，右段长度为F(k-2)。若查找值大于mid值，\n",
    ">则low等于mid+1，而k = k - 2；若查找值小于mid，则high = mid -1，\n",
    ">k =k -1。\n",
    "\n",
    "### 斐波那契查找示意图\n",
    "![斐波那契查找示意图](/DataStructure/image/fibonacci_search.png)"
   ]
  },
  {
   "cell_type": "code",
   "execution_count": 11,
   "outputs": [],
   "source": [
    "from typing import List\n",
    "\n",
    "# 斐波那契函数\n",
    "fibonacci = lambda n: n if n < 2 else fibonacci(n-1) + fibonacci(n-2)\n",
    "\n",
    "def fibonacci_search(alist:List[int], item):\n",
    "    \"\"\"斐波那契查找\"\"\"\n",
    "    first = 0\n",
    "    last = len(alist)-1\n",
    "    \n",
    "    key = 0\n",
    "    while fibonacci(key) < len(alist):\n",
    "        key += 1\n",
    "        \n",
    "    while first<=last:\n",
    "        mid = min(first+fibonacci(key-1), len(alist)-1)\n",
    "        if alist[mid] == item:\n",
    "            return True\n",
    "        elif item < alist[mid]:\n",
    "            last = mid - 1\n",
    "            key -= 1\n",
    "        else:\n",
    "            first = mid + 1\n",
    "            key -= 2\n",
    "    return False\n",
    "\n",
    "def fibonacci_search_recursion(alist:List[int], item):\n",
    "    \"\"\"斐波那契查找(递归方式)\"\"\"\n",
    "    if len(alist) == 0:\n",
    "        return False\n",
    "    else:\n",
    "        key = 0\n",
    "        while fibonacci(key) < len(alist):\n",
    "            key += 1\n",
    "            \n",
    "        mid = min(fibonacci(key-1), len(alist)-1)\n",
    "        if alist[mid]==item:\n",
    "            return True\n",
    "        else:\n",
    "            if item<alist[mid]:\n",
    "                return fibonacci_search_recursion(alist[:mid],item)\n",
    "            else:\n",
    "                return fibonacci_search_recursion(alist[mid+1:],item)"
   ],
   "metadata": {
    "collapsed": false,
    "pycharm": {
     "name": "#%% 代码实现\n",
     "is_executing": false
    }
   }
  },
  {
   "cell_type": "code",
   "execution_count": 12,
   "outputs": [
    {
     "name": "stdout",
     "text": [
      "原始数据为： [0, 1, 2, 8, 13, 17, 19, 32, 42]\n输出结果为： False\n递归形式输出结果为： False\n"
     ],
     "output_type": "stream"
    }
   ],
   "source": [
    "if __name__ == '__main__':\n",
    "    arr = [0, 1, 2, 8, 13, 17, 19, 32, 42]\n",
    "    print(\"原始数据为：\", arr)\n",
    "    print(\"输出结果为：\", fibonacci_search(arr, 3))\n",
    "    print(\"递归形式输出结果为：\", fibonacci_search_recursion(arr, 3))"
   ],
   "metadata": {
    "collapsed": false,
    "pycharm": {
     "name": "#%% 测试数据\n",
     "is_executing": false
    }
   }
  }
 ],
 "metadata": {
  "kernelspec": {
   "display_name": "Python 3",
   "language": "python",
   "name": "python3"
  },
  "language_info": {
   "codemirror_mode": {
    "name": "ipython",
    "version": 2
   },
   "file_extension": ".py",
   "mimetype": "text/x-python",
   "name": "python",
   "nbconvert_exporter": "python",
   "pygments_lexer": "ipython2",
   "version": "2.7.6"
  },
  "pycharm": {
   "stem_cell": {
    "cell_type": "raw",
    "source": [],
    "metadata": {
     "collapsed": false
    }
   }
  }
 },
 "nbformat": 4,
 "nbformat_minor": 0
}