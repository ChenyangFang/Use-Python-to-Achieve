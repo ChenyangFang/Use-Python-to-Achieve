{
 "cells": [
  {
   "cell_type": "markdown",
   "metadata": {
    "collapsed": true,
    "pycharm": {
     "name": "#%% md\n"
    }
   },
   "source": [
    "## 哈希查找(Hash Search)\n",
    ">哈希表以键-值(key-indexed) 存储数据，只要输入待查找的key，\n",
    ">即可查找到其对应的值\n",
    "\n",
    "\n",
    "## 算法流程\n",
    "1）用给定的哈希函数构造哈希表；\n",
    "2）根据选择的冲突处理方法解决地址冲突；常见的解决冲突的方法：拉链法和线性探测法。\n",
    "3）在哈希表的基础上执行哈希查找。\n",
    "\n",
    "对于无冲突的Hash表而言，查找复杂度为O(1)（在查找前需要构建相应的Hash表）。\n"
   ]
  },
  {
   "cell_type": "code",
   "execution_count": 33,
   "outputs": [],
   "source": [
    "from typing import List\n",
    "\n",
    "class HashSearch:\n",
    "    \"\"\"哈希查找类实现\"\"\"\n",
    "    def __init__(self, arr:List[int]):\n",
    "        self._list = [None for _ in arr]\n",
    "        self.size = len(arr)\n",
    "        for i in arr:\n",
    "            self.put(i)\n",
    "\n",
    "    def hash(self, key):\n",
    "        # 散列函数采用除留余数法\n",
    "        return key % self.size\n",
    "    \n",
    "    def put(self, key):\n",
    "        # 插入关键字到哈希表内\n",
    "        index = self.hash(key) # 求散列地址\n",
    "        while self._list[index]:\n",
    "            # 当前位置已经有数据，发生冲突时，\n",
    "            # 线性探索下一地址\n",
    "            index = self.hash(index + 1)\n",
    "        \n",
    "        # 若不发生冲突，直接保存\n",
    "        self._list[index] = key\n",
    "\n",
    "    def search(self, key):\n",
    "        index = self.hash(key)\n",
    "        temp = index\n",
    "        while self._list[index] != key:\n",
    "            index = self.hash(index+1)\n",
    "            if index == temp:\n",
    "                # 若循环到开始位置\n",
    "                return False\n",
    "        return True\n",
    "    \n",
    "def hash_search(arr:List[int],key):\n",
    "    \"\"\"\n",
    "    哈希查找\n",
    "    :param arr: 目标List\n",
    "    :param key: 查找关键字\n",
    "    :return: \n",
    "    \"\"\"\n",
    "    # 存入哈希表\n",
    "    _list = [None for _ in arr]\n",
    "    for item in arr:\n",
    "        index = item % len(arr)\n",
    "        while _list[index]:\n",
    "            index = (index + 1) % len(arr)\n",
    "        _list[index] = item\n",
    "    \n",
    "    # 哈希查找\n",
    "    key_index = key % len(arr)\n",
    "    temp = key_index\n",
    "    while _list[key_index] != key:\n",
    "        key_index = (key_index + 1) % len(arr)\n",
    "        if key_index == temp:\n",
    "            return False\n",
    "    return True\n",
    "    "
   ],
   "metadata": {
    "collapsed": false,
    "pycharm": {
     "name": "#%% 代码实现\n",
     "is_executing": false
    }
   }
  },
  {
   "cell_type": "code",
   "execution_count": 34,
   "outputs": [
    {
     "name": "stdout",
     "text": [
      "原始数据为： [0, 1, 2, 8, 13, 17, 19, 32, 42]\n输出结果为： False\n"
     ],
     "output_type": "stream"
    }
   ],
   "source": [
    "if __name__ == '__main__':\n",
    "    arr = [0, 1, 2, 8, 13, 17, 19, 32, 42]\n",
    "    print(\"原始数据为：\", arr)\n",
    "    # hash_search = HashSearch(arr)\n",
    "    # print(\"输出结果为：\", hash_search.search(3))\n",
    "    print(\"输出结果为：\", hash_search(arr,3))"
   ],
   "metadata": {
    "collapsed": false,
    "pycharm": {
     "name": "#%% 测试数据\n",
     "is_executing": false
    }
   }
  }
 ],
 "metadata": {
  "kernelspec": {
   "display_name": "Python 3",
   "language": "python",
   "name": "python3"
  },
  "language_info": {
   "codemirror_mode": {
    "name": "ipython",
    "version": 2
   },
   "file_extension": ".py",
   "mimetype": "text/x-python",
   "name": "python",
   "nbconvert_exporter": "python",
   "pygments_lexer": "ipython2",
   "version": "2.7.6"
  },
  "pycharm": {
   "stem_cell": {
    "cell_type": "raw",
    "source": [],
    "metadata": {
     "collapsed": false
    }
   }
  }
 },
 "nbformat": 4,
 "nbformat_minor": 0
}