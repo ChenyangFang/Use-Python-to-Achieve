{
 "cells": [
  {
   "cell_type": "markdown",
   "metadata": {
    "collapsed": true,
    "pycharm": {
     "name": "#%% md\n"
    }
   },
   "source": [
    "## 递归(Recursion)\n",
    ">递归是一种解决问题的方法，它把一个问题分解为越来越小的子问题，直到问题的规模小到\n",
    "可以被很简单直接解决。通常为了达到分解问题的效果，递归过程中要引入一个调用自身的函数。\n",
    "乍一看，递归算法并没有什么特别的地方，但是，利用递归我们能够写出极为简明的解决问题的方\n",
    "法，而且如果不用递归，这些问题将具有很大的编程难度。\n",
    "\n",
    "\n",
    "### 递归三大定律\n",
    "- 递归算法必须有个基本结束条件;\n",
    "- 递归算法必须改变自己的状态并向基本结束条件演进;\n",
    "- 递归算法必须递归地调用自身。\n"
   ]
  },
  {
   "cell_type": "code",
   "execution_count": 31,
   "outputs": [],
   "source": [
    "from typing import List\n",
    "\n",
    "# 1.递归求和\n",
    "def sum_recursion(arr:List[int]):\n",
    "    \"\"\"\n",
    "    递归求和,使用递归实现数字列表求和\n",
    "    :param arr: 待求和数字列表\n",
    "    :return: 求和结果\n",
    "    \"\"\"\n",
    "    if len(arr) == 1:\n",
    "        return arr[0]\n",
    "    else:\n",
    "        return arr[0] + sum_recursion(arr[1:])\n",
    "    \n",
    "# 2.递归求阶乘\n",
    "def fact(n:int):\n",
    "    \"\"\"\n",
    "    递归求阶乘,n!\n",
    "    :param n:待求阶乘的数字\n",
    "    :return: 阶乘结果\n",
    "    \"\"\"\n",
    "    if n < 0:\n",
    "        return None\n",
    "    elif n <= 1:\n",
    "        return 1\n",
    "    else:\n",
    "        return n*fact(n-1)\n",
    "    \n",
    "# 3.将整数转换到指定进制字符串\n",
    "def convert_to_str(n:int,base:int):\n",
    "    \"\"\"\n",
    "    递归转换整数到指定进制字符串\n",
    "    :param n: 待转换整数\n",
    "    :param base: 进制数，目前支持2~16进制\n",
    "    :return: 转换后的进制字符串\n",
    "    \"\"\"\n",
    "    convert_string=\"0123456789ABCD\"\n",
    "    if n < base:\n",
    "        return convert_string[n]\n",
    "    else:\n",
    "        return convert_to_str(n//base,base) + convert_string[n%base]\n",
    " \n",
    " # 4.翻转字符串实现\n",
    "def reverse_string(s:str):\n",
    "    \"\"\"\n",
    "    递归返回翻转字符串\n",
    "    :param s: 待翻转字符串\n",
    "    :return: 翻转后字符串\n",
    "    \"\"\"\n",
    "    if len(s) <= 1:\n",
    "        return s\n",
    "    else:\n",
    "        return s[-1] + reverse_string(s[:-1])\n",
    "    \n",
    "# 5.递归实现斐波那契数列\n",
    "from functools import lru_cache\n",
    "@lru_cache(maxsize=None) # 缓存每次计算结果，可减少重复计算\n",
    "def fibonacci(n:int):\n",
    "    \"\"\"\n",
    "    斐波那契数列,1 1 2 3 5 8 13 21 34 55 89\n",
    "    :param n: 斐波那契数列阶数\n",
    "    :return: 返回相应的斐波那契数\n",
    "    \"\"\"\n",
    "    if n < 2:\n",
    "        return n\n",
    "    else:\n",
    "        return fibonacci(n-2) + fibonacci(n-1)\n"
   ],
   "metadata": {
    "collapsed": false,
    "pycharm": {
     "name": "#%% 代码实现\n",
     "is_executing": false
    }
   }
  },
  {
   "cell_type": "code",
   "execution_count": 32,
   "outputs": [
    {
     "name": "stdout",
     "text": [
      "递归求和结果： 480\n递归求阶乘结果为：4! = 24\n整数转换到指定进制结果为： 400\n字符串翻转结果为： dlrow olleH\n斐波那契数输出结果为： 21\n"
     ],
     "output_type": "stream"
    }
   ],
   "source": [
    "if __name__ == '__main__':\n",
    "    import random\n",
    "    random.seed(54)\n",
    "    arr = [random.randint(0,100) for _ in range(10)]\n",
    "    print(\"递归求和结果：\", sum_recursion(arr))\n",
    "    \n",
    "    print(\"递归求阶乘结果为：4! =\", fact(4))\n",
    "    \n",
    "    print(\"整数转换到指定进制结果为：\", convert_to_str(1024,16))\n",
    "    \n",
    "    print(\"字符串翻转结果为：\", reverse_string(\"Hello world\"))\n",
    "    \n",
    "    print(\"斐波那契数输出结果为：\", fibonacci(8))"
   ],
   "metadata": {
    "collapsed": false,
    "pycharm": {
     "name": "#%% 测试数据\n",
     "is_executing": false
    }
   }
  }
 ],
 "metadata": {
  "kernelspec": {
   "display_name": "Python 3",
   "language": "python",
   "name": "python3"
  },
  "language_info": {
   "codemirror_mode": {
    "name": "ipython",
    "version": 2
   },
   "file_extension": ".py",
   "mimetype": "text/x-python",
   "name": "python",
   "nbconvert_exporter": "python",
   "pygments_lexer": "ipython2",
   "version": "2.7.6"
  },
  "pycharm": {
   "stem_cell": {
    "cell_type": "raw",
    "source": [],
    "metadata": {
     "collapsed": false
    }
   }
  }
 },
 "nbformat": 4,
 "nbformat_minor": 0
}