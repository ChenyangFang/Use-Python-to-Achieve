{
 "cells": [
  {
   "cell_type": "markdown",
   "metadata": {
    "collapsed": true,
    "pycharm": {
     "name": "#%% md\n"
    }
   },
   "source": [
    "## 插值查找(Insertion Search)\n",
    "> 这种方式的查找其实是将值构造成了一颗二叉排序数,然后进行查找。\n",
    ">这种搜索的好处在于大大的缩短了搜索时间,时间复杂度为logn小于线性的n。\n",
    ">而插值查找则比较灵活,并不是简单的从中间进行的,它是根据我们需要查询的值的渐进进行搜索的。\n",
    ">插值查找的不同点在于二分查找，每一次并不是从中间切分,而是根据离所求值的距离进行搜索的。\n"
   ]
  },
  {
   "cell_type": "code",
   "execution_count": 8,
   "outputs": [],
   "source": [
    "from typing import List\n",
    "\n",
    "def insertion_search(alist:List[int], item):\n",
    "    \"\"\"插入查找\"\"\"\n",
    "    first = 0\n",
    "    last = len(alist)-1\n",
    "    while first<=last:\n",
    "        mid = first + int((last - first) * (item - alist[first])/(alist[last] - alist[first]))\n",
    "        if alist[mid] == item:\n",
    "            return True\n",
    "        elif item < alist[mid]:\n",
    "            last = mid - 1\n",
    "        else:\n",
    "            first = mid + 1\n",
    "    return False\n",
    "\n",
    "def insertion_search_recursion(alist:List[int], item):\n",
    "    \"\"\"插入查找(递归方式)\"\"\"\n",
    "    if len(alist) == 0:\n",
    "        return False\n",
    "    else:\n",
    "        mid = int((len(alist)) * (item - alist[0])/(alist[-1] - alist[0]))\n",
    "        if alist[mid]==item:\n",
    "            return True\n",
    "        else:\n",
    "            if item<alist[mid]:\n",
    "                return insertion_search_recursion(alist[:mid],item)\n",
    "            else:\n",
    "                return insertion_search_recursion(alist[mid+1:],item)"
   ],
   "metadata": {
    "collapsed": false,
    "pycharm": {
     "name": "#%% 代码实现\n",
     "is_executing": false
    }
   }
  },
  {
   "cell_type": "code",
   "execution_count": 9,
   "outputs": [
    {
     "name": "stdout",
     "text": [
      "原始数据为： [0, 1, 2, 8, 13, 17, 19, 32, 42]\n输出结果为： True\n递归形式输出结果为： True\n"
     ],
     "output_type": "stream"
    }
   ],
   "source": [
    "if __name__ == '__main__':\n",
    "    arr = [0, 1, 2, 8, 13, 17, 19, 32, 42]\n",
    "    print(\"原始数据为：\", arr)\n",
    "    print(\"输出结果为：\", insertion_search(arr, 3))\n",
    "    print(\"递归形式输出结果为：\", insertion_search_recursion(arr, 3))\n"
   ],
   "metadata": {
    "collapsed": false,
    "pycharm": {
     "name": "#%% 测试数据\n",
     "is_executing": false
    }
   }
  }
 ],
 "metadata": {
  "kernelspec": {
   "display_name": "Python 3",
   "language": "python",
   "name": "python3"
  },
  "language_info": {
   "codemirror_mode": {
    "name": "ipython",
    "version": 2
   },
   "file_extension": ".py",
   "mimetype": "text/x-python",
   "name": "python",
   "nbconvert_exporter": "python",
   "pygments_lexer": "ipython2",
   "version": "2.7.6"
  },
  "pycharm": {
   "stem_cell": {
    "cell_type": "raw",
    "source": [],
    "metadata": {
     "collapsed": false
    }
   }
  }
 },
 "nbformat": 4,
 "nbformat_minor": 0
}