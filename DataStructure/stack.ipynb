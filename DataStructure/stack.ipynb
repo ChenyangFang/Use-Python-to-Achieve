{
 "cells": [
  {
   "cell_type": "markdown",
   "metadata": {
    "collapsed": true,
    "pycharm": {
     "name": "#%% md\n"
    }
   },
   "source": [
    "## 栈\n",
    ">栈（stack），有些地方称为堆栈，是一种容器，可存入数据元素、访问元素、删除元素，\n",
    ">它的特点在于只能允许在容器的一端（称为栈顶端指标，英语：top）进行加入数据（英语：push）\n",
    ">和输出数据（英语：pop）的运算。没有了位置概念，保证任何时候可以访问、删除的元素都是\n",
    ">此前最后存入的那个元素，确定了一种默认的访问顺序。\n",
    ">由于栈数据结构只允许在一端进行操作，因而按照后进先出（LIFO, Last In First Out）的原理运作。\n",
    ">栈可以用顺序表实现，也可以用链表实现。\n",
    "\n",
    "### 栈的结构示意图\n",
    "![栈的结构示意图](/DataStructure/image/stack.png)"
   ]
  },
  {
   "cell_type": "code",
   "execution_count": 10,
   "outputs": [],
   "source": [
    "class Stack(object):\n",
    "    \"\"\"栈\"\"\"\n",
    "    def __init__(self):\n",
    "         self.items = []\n",
    "\n",
    "    def is_empty(self):\n",
    "        \"\"\"判断是否为空\"\"\"\n",
    "        return self.size() == 0\n",
    "\n",
    "    def push(self, item):\n",
    "        \"\"\"加入元素\"\"\"\n",
    "        self.items.append(item)\n",
    "\n",
    "    def pop(self):\n",
    "        \"\"\"弹出元素\"\"\"\n",
    "        return self.items.pop()\n",
    "\n",
    "    def peek(self):\n",
    "        \"\"\"返回栈顶元素\"\"\"\n",
    "        if self.is_empty():\n",
    "            return None\n",
    "        else:\n",
    "            return self.items[-1]\n",
    "\n",
    "    def size(self):\n",
    "        \"\"\"返回栈的大小\"\"\"\n",
    "        return len(self.items)"
   ],
   "metadata": {
    "collapsed": false,
    "pycharm": {
     "name": "#%% 代码实现\n",
     "is_executing": false
    }
   }
  },
  {
   "cell_type": "code",
   "execution_count": 11,
   "outputs": [
    {
     "name": "stdout",
     "text": [
      "栈的大小为： 4\n栈顶元素为： 4\n4\n3\n2\n1\n栈的大小为： 0\nTrue\n"
     ],
     "output_type": "stream"
    }
   ],
   "source": [
    "if __name__ == \"__main__\":\n",
    "    stack = Stack()\n",
    "    stack.push(1)\n",
    "    stack.push(2)\n",
    "    stack.push(3)\n",
    "    stack.push(4)\n",
    "    print(\"栈的大小为：\", stack.size())\n",
    "    print(\"栈顶元素为：\", stack.peek())\n",
    "    print(stack.pop())\n",
    "    print(stack.pop())\n",
    "    print(stack.pop())\n",
    "    print(stack.pop())\n",
    "    print(\"栈的大小为：\", stack.size())\n",
    "    print(stack.is_empty())"
   ],
   "metadata": {
    "collapsed": false,
    "pycharm": {
     "name": "#%% 测试数据\n",
     "is_executing": false
    }
   }
  }
 ],
 "metadata": {
  "kernelspec": {
   "display_name": "Python 3",
   "language": "python",
   "name": "python3"
  },
  "language_info": {
   "codemirror_mode": {
    "name": "ipython",
    "version": 2
   },
   "file_extension": ".py",
   "mimetype": "text/x-python",
   "name": "python",
   "nbconvert_exporter": "python",
   "pygments_lexer": "ipython2",
   "version": "2.7.6"
  },
  "pycharm": {
   "stem_cell": {
    "cell_type": "raw",
    "source": [],
    "metadata": {
     "collapsed": false
    }
   }
  }
 },
 "nbformat": 4,
 "nbformat_minor": 0
}
