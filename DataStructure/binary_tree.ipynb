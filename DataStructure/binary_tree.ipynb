{
 "cells": [
  {
   "cell_type": "markdown",
   "metadata": {
    "collapsed": true,
    "pycharm": {
     "name": "#%% md\n"
    }
   },
   "source": [
    "## 二叉树\n",
    "\n"
   ]
  },
  {
   "cell_type": "code",
   "execution_count": 53,
   "outputs": [],
   "source": [
    "class Node(object):\n",
    "    \"\"\"二叉树节点\"\"\"\n",
    "    \n",
    "    def __init__(self,item):\n",
    "        self.elem = item\n",
    "        self.left = None\n",
    "        self.right = None\n",
    "\n",
    "class BinaryTree(object):\n",
    "    \"\"\"二叉树\"\"\"\n",
    "    \n",
    "    def __init__(self):\n",
    "        self.root = None\n",
    "        \n",
    "    def add(self,item):\n",
    "        \"\"\"添加节点\"\"\"\n",
    "        node = Node(item)\n",
    "        if self.root is None:\n",
    "            self.root = node\n",
    "        else:\n",
    "            queue = [self.root]\n",
    "            while queue:\n",
    "                # 取出队列中第一个节点\n",
    "                cur = queue.pop(0)\n",
    "                if cur.left is None:\n",
    "                    cur.left = node\n",
    "                    return\n",
    "                elif cur.right is None:\n",
    "                    cur.right = node\n",
    "                    return\n",
    "                else:\n",
    "                    queue.append(cur.left)\n",
    "                    queue.append(cur.right)\n",
    "                    \n",
    "    def breadth_travel(self):\n",
    "        \"\"\"广度遍历/层次遍历\"\"\"\n",
    "        if self.root is None:\n",
    "            return\n",
    "        else:\n",
    "            queue = [self.root]\n",
    "            while queue:\n",
    "                cur = queue.pop(0)\n",
    "                print(cur.elem, end=\" \")\n",
    "                if cur.left is not None:\n",
    "                    queue.append(cur.left)\n",
    "                if cur.right is not None:\n",
    "                    queue.append(cur.right) \n",
    "                    \n",
    "    def pre_order(self, node):\n",
    "        if node is None:\n",
    "            return\n",
    "        print(node.elem, end=\" \")\n",
    "        self.pre_order(node.left)\n",
    "        self.pre_order(node.right)\n",
    "        \n",
    "    def pre_order_travel(self):\n",
    "        \"\"\"深度遍历-先序遍历\n",
    "        根->左节点->右节点\n",
    "        \"\"\"\n",
    "        if self.root is None:\n",
    "            return\n",
    "        self.pre_order(self.root)\n",
    "        \n",
    "    def in_order(self, node):\n",
    "        if node is None:\n",
    "            return\n",
    "        self.in_order(node.left)\n",
    "        print(node.elem, end=\" \")\n",
    "        self.in_order(node.right)\n",
    "    \n",
    "    def in_order_travel(self):\n",
    "        \"\"\"深度遍历-中序遍历\n",
    "        左节点->根->右节点\n",
    "        \"\"\"\n",
    "        if self.root is None:\n",
    "            return\n",
    "        self.in_order(self.root)\n",
    "        \n",
    "    def post_order(self, node):\n",
    "        if node is None:\n",
    "            return\n",
    "        self.post_order(node.left)\n",
    "        self.post_order(node.right)\n",
    "        print(node.elem, end=\" \")\n",
    "        \n",
    "    def post_order_travel(self):\n",
    "        \"\"\"深度遍历-后序遍历\n",
    "        左节点->右节点->根\n",
    "        \"\"\"\n",
    "        if self.root is None:\n",
    "            return\n",
    "        self.post_order(self.root)\n",
    "            "
   ],
   "metadata": {
    "collapsed": false,
    "pycharm": {
     "name": "#%% 代码实现\n",
     "is_executing": false
    }
   }
  },
  {
   "cell_type": "code",
   "execution_count": 54,
   "outputs": [
    {
     "name": "stdout",
     "text": [
      "广度/层次遍历：\n0 1 2 3 4 5 6 7 8 9  \n先序遍历：\n0 1 3 7 8 4 9 2 5 6  \n中序遍历：\n7 3 8 1 9 4 0 5 2 6  \n后序遍历：\n7 8 3 9 4 1 5 6 2 0 "
     ],
     "output_type": "stream"
    }
   ],
   "source": [
    "if __name__ == '__main__':\n",
    "    binary_tree = BinaryTree()\n",
    "    binary_tree.add(0)\n",
    "    binary_tree.add(1)\n",
    "    binary_tree.add(2)\n",
    "    binary_tree.add(3)\n",
    "    binary_tree.add(4)\n",
    "    binary_tree.add(5)\n",
    "    binary_tree.add(6)\n",
    "    binary_tree.add(7)\n",
    "    binary_tree.add(8)\n",
    "    binary_tree.add(9)\n",
    "    print(\"广度/层次遍历：\")\n",
    "    binary_tree.breadth_travel()\n",
    "    print(\" \")\n",
    "    print(\"先序遍历：\")\n",
    "    binary_tree.pre_order_travel()\n",
    "    print(\" \")\n",
    "    print(\"中序遍历：\")\n",
    "    binary_tree.in_order_travel()\n",
    "    print(\" \")\n",
    "    print(\"后序遍历：\")\n",
    "    binary_tree.post_order_travel()\n",
    "    \n",
    "    "
   ],
   "metadata": {
    "collapsed": false,
    "pycharm": {
     "name": "#%% 测试数据\n",
     "is_executing": false
    }
   }
  }
 ],
 "metadata": {
  "kernelspec": {
   "display_name": "Python 3",
   "language": "python",
   "name": "python3"
  },
  "language_info": {
   "codemirror_mode": {
    "name": "ipython",
    "version": 2
   },
   "file_extension": ".py",
   "mimetype": "text/x-python",
   "name": "python",
   "nbconvert_exporter": "python",
   "pygments_lexer": "ipython2",
   "version": "2.7.6"
  },
  "pycharm": {
   "stem_cell": {
    "cell_type": "raw",
    "source": [],
    "metadata": {
     "collapsed": false
    }
   }
  }
 },
 "nbformat": 4,
 "nbformat_minor": 0
}