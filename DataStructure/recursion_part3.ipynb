{
 "cells": [
  {
   "cell_type": "markdown",
   "metadata": {
    "collapsed": true,
    "pycharm": {
     "name": "#%% md\n"
    }
   },
   "source": [
    "## 绘制分形树"
   ]
  },
  {
   "cell_type": "code",
   "execution_count": 9,
   "outputs": [],
   "source": [
    "import turtle\n",
    "import random\n",
    "\n",
    "# 自定义树每一层的树枝长度\n",
    "branch_len_list = [3,5,8,13,21,34,55,89,144]\n",
    "\n",
    "def draw_tree(t:turtle.Turtle, num:int):\n",
    "    \"\"\"\n",
    "    递归绘制分形树\n",
    "    :param t: turtle实例\n",
    "    :param num: 分枝的层数\n",
    "    :return: \n",
    "    \"\"\"\n",
    "    degree = random.randint(15,45)\n",
    "    branch_len = branch_len_list[num]\n",
    "    # l = random.randint(8,12)\n",
    "    t.pensize(branch_len*0.1)\n",
    "    if num >0:\n",
    "        if branch_len < 20:\n",
    "            t.color('green')\n",
    "        else:\n",
    "            t.color('brown')\n",
    "        \n",
    "        # 绘制右侧的树枝\n",
    "        t.forward(branch_len)\n",
    "        t.right(degree)\n",
    "        draw_tree(t, num-1)\n",
    "        \n",
    "        # 绘制左侧侧的树枝\n",
    "        t.left(2*degree)\n",
    "        draw_tree(t, num-1)\n",
    "        \n",
    "        if branch_len < 20:\n",
    "            t.color('green')\n",
    "        else:\n",
    "            t.color('brown')\n",
    "            \n",
    "        # 返回之前的树枝上    \n",
    "        t.right(degree)\n",
    "        t.backward(branch_len)\n",
    "\n"
   ],
   "metadata": {
    "collapsed": false,
    "pycharm": {
     "name": "#%% 代码实现\n",
     "is_executing": false
    }
   }
  },
  {
   "cell_type": "code",
   "execution_count": 10,
   "outputs": [],
   "source": [
    "if __name__ == '__main__':\n",
    "    t = turtle.Turtle()\n",
    "    screen = turtle.Screen()\n",
    "    t.left(90)\n",
    "    t.up()\n",
    "    t.back(150)\n",
    "    t.down()\n",
    "    draw_tree(t,8)\n",
    "    t.hideturtle()\n",
    "    screen.exitonclick()"
   ],
   "metadata": {
    "collapsed": false,
    "pycharm": {
     "name": "#%% 测试数据\n",
     "is_executing": false
    }
   }
  }
 ],
 "metadata": {
  "kernelspec": {
   "display_name": "Python 3",
   "language": "python",
   "name": "python3"
  },
  "language_info": {
   "codemirror_mode": {
    "name": "ipython",
    "version": 2
   },
   "file_extension": ".py",
   "mimetype": "text/x-python",
   "name": "python",
   "nbconvert_exporter": "python",
   "pygments_lexer": "ipython2",
   "version": "2.7.6"
  },
  "pycharm": {
   "stem_cell": {
    "cell_type": "raw",
    "source": [],
    "metadata": {
     "collapsed": false
    }
   }
  }
 },
 "nbformat": 4,
 "nbformat_minor": 0
}