{
 "cells": [
  {
   "cell_type": "markdown",
   "metadata": {
    "collapsed": true,
    "pycharm": {
     "name": "#%% md\n"
    }
   },
   "source": [
    "## 基数排序(Radix Sort)\n",
    ">基数排序是一种非常有意思的排序。对于数值偏小的一组序列，其速度是非常快的，\n",
    ">时间复杂度达到了线性，而且思想也非常的巧妙。首先按照个位数的大小，\n",
    ">分别放入10个队列中，然后采用先进先出的原则，摆回去。\n",
    ">继而再对十位数进行相同的操作。以此类推，直至最后最大一个数的那个数位结束了\n",
    ">这种操作，最终我们就得到排好序的数列。\n",
    "\n",
    "### 算法原理\n",
    "1. 取得数组中的最大数，并取得位数；\n",
    "2. 分配，先从个位开始，根据位值(0-9)分别放到0~9号桶中;\n",
    "3. 收集，再将放置在0~9号桶中的数据按顺序放到数组中;\n",
    "4. 重复2~3过程，从个位到最高位，直到排好序为止。\n",
    "\n",
    "### 动画演示\n",
    "![基数排序](./image/radix_sort.gif)"
   ]
  },
  {
   "cell_type": "code",
   "execution_count": 5,
   "outputs": [
    {
     "name": "stdout",
     "text": [
      "[17, 28, 38, 42, 48, 56, 57, 61, 62, 71]\n"
     ],
     "output_type": "stream"
    }
   ],
   "source": [
    "from typing import List\n",
    "\n",
    "def radix_sort(arr:List[int]):\n",
    "    n = len(str(max(arr)))  # 记录最大值的位数\n",
    "    for k in range(n):#n轮排序\n",
    "        # 每一轮生成10个列表\n",
    "        bucket_list=[[] for i in range(10)]#因为每一位数字都是0~9，故建立10个桶\n",
    "        for i in arr:\n",
    "            # 按第k位放入到桶中\n",
    "            bucket_list[i//(10**k)%10].append(i)\n",
    "        # 按当前桶的顺序重排列表\n",
    "        arr=[j for i in bucket_list for j in i]\n",
    "    return arr\n",
    " \n",
    "if __name__ == '__main__':\n",
    "    import random\n",
    "    random.seed(54)\n",
    "    arr = [random.randint(0,100) for _ in range(10)]\n",
    "    arr_new = radix_sort(arr)\n",
    "    print(arr_new)"
   ],
   "metadata": {
    "collapsed": false,
    "pycharm": {
     "name": "#%%\n",
     "is_executing": false
    }
   }
  }
 ],
 "metadata": {
  "kernelspec": {
   "display_name": "Python 3",
   "language": "python",
   "name": "python3"
  },
  "language_info": {
   "codemirror_mode": {
    "name": "ipython",
    "version": 2
   },
   "file_extension": ".py",
   "mimetype": "text/x-python",
   "name": "python",
   "nbconvert_exporter": "python",
   "pygments_lexer": "ipython2",
   "version": "2.7.6"
  },
  "pycharm": {
   "stem_cell": {
    "cell_type": "raw",
    "source": [],
    "metadata": {
     "collapsed": false
    }
   }
  }
 },
 "nbformat": 4,
 "nbformat_minor": 0
}