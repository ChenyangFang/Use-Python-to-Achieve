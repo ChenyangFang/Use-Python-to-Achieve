{
 "cells": [
  {
   "cell_type": "markdown",
   "metadata": {
    "collapsed": true,
    "pycharm": {
     "name": "#%% md\n"
    }
   },
   "source": [
    "## 绘制谢尔宾斯基三角形"
   ]
  },
  {
   "cell_type": "code",
   "execution_count": 1,
   "outputs": [],
   "source": [
    "import turtle\n",
    "\n",
    "def draw_triangle(points,color,t):\n",
    "    \"\"\"\n",
    "    绘制三角形\n",
    "    :param points: 三角形顶点\n",
    "    :param color: 填充颜色\n",
    "    :param t: turtle实例\n",
    "    :return: \n",
    "    \"\"\"\n",
    "    t.fillcolor(color)\n",
    "    t.up()\n",
    "    t.goto(points[0][0],points[0][1])\n",
    "    t.down()\n",
    "    t.begin_fill()\n",
    "    t.goto(points[1][0],points[1][1])\n",
    "    t.goto(points[2][0],points[2][1])\n",
    "    t.goto(points[0][0],points[0][1])\n",
    "    t.end_fill()\n",
    "    \n",
    "def get_mid(p1, p2):\n",
    "    \"\"\"\n",
    "    获取中点位置\n",
    "    :param p1: 第一点位置\n",
    "    :param p2: 第二点位置\n",
    "    :return: \n",
    "    \"\"\"\n",
    "    return ((p1[0] + p2[0]) / 2, (p1[1] + p2[1]) / 2)\n",
    "\n",
    "def sierpinski(points, degree, t):\n",
    "    \"\"\"\n",
    "    绘制谢尔宾斯基三角形\n",
    "    :param points: 三角形顶点\n",
    "    :param degree: 递归阶数\n",
    "    :param t: turtle实例\n",
    "    :return: \n",
    "    \"\"\"\n",
    "    color_map = ['violet','blue','green','yellow','orange','red']\n",
    "    draw_triangle(points,color_map[degree],t)\n",
    "    if degree > 0:\n",
    "        sierpinski([points[0],get_mid(points[0],points[1]),get_mid(points[0],points[2])],degree-1,t)\n",
    "        sierpinski([points[1],get_mid(points[0],points[1]),get_mid(points[1],points[2])],degree-1,t)\n",
    "        sierpinski([points[2],get_mid(points[0],points[2]),get_mid(points[1],points[2])],degree-1,t)"
   ],
   "metadata": {
    "collapsed": false,
    "pycharm": {
     "name": "#%% 代码实现\n",
     "is_executing": false
    }
   }
  },
  {
   "cell_type": "code",
   "execution_count": 2,
   "outputs": [],
   "source": [
    "if __name__ == '__main__':\n",
    "    t = turtle.Turtle()\n",
    "    screen = turtle.Screen()\n",
    "    points = [[-200,-100],[0,200],[200,-100]]\n",
    "    sierpinski(points,5,t)\n",
    "    t.hideturtle()\n",
    "    screen.exitonclick()"
   ],
   "metadata": {
    "collapsed": false,
    "pycharm": {
     "name": "#%% 测试数据\n",
     "is_executing": false
    }
   }
  }
 ],
 "metadata": {
  "kernelspec": {
   "display_name": "Python 3",
   "language": "python",
   "name": "python3"
  },
  "language_info": {
   "codemirror_mode": {
    "name": "ipython",
    "version": 2
   },
   "file_extension": ".py",
   "mimetype": "text/x-python",
   "name": "python",
   "nbconvert_exporter": "python",
   "pygments_lexer": "ipython2",
   "version": "2.7.6"
  },
  "pycharm": {
   "stem_cell": {
    "cell_type": "raw",
    "source": [],
    "metadata": {
     "collapsed": false
    }
   }
  }
 },
 "nbformat": 4,
 "nbformat_minor": 0
}