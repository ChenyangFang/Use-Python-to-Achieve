{
 "cells": [
  {
   "cell_type": "markdown",
   "metadata": {
    "collapsed": true,
    "pycharm": {
     "name": "#%% md\n"
    }
   },
   "source": [
    "## 找零硬币计数问题"
   ]
  },
  {
   "cell_type": "code",
   "execution_count": 7,
   "outputs": [],
   "source": [
    "def rec_dc(coin_value_list, change, known_results):\n",
    "    \"\"\"\n",
    "    递归硬币计数\n",
    "    :param coin_value_list:硬币面值列表 \n",
    "    :param change: 需要找零的总额\n",
    "    :param known_results: 已知的最优找零结果\n",
    "    :return: 最少找零硬币个数\n",
    "    \"\"\"\n",
    "    min_coins = change\n",
    "    if change in coin_value_list:\n",
    "        known_results[change]=1\n",
    "        return 1\n",
    "    elif known_results[change]>0:\n",
    "        return known_results[change]\n",
    "    else:\n",
    "        for i in [c for c in coin_value_list if c <= change]:\n",
    "            num_coins = 1+ rec_dc(coin_value_list,change-i,known_results)\n",
    "            if num_coins < min_coins:\n",
    "                min_coins = num_coins\n",
    "                known_results[change] = min_coins\n",
    "    return min_coins\n",
    "\n",
    "def dp_make_change(coin_value_list, change):\n",
    "    \"\"\"\n",
    "    非递归硬币计数\n",
    "    :param coin_value_list: 硬币面值列表\n",
    "    :param change: 找零总额\n",
    "    :return: 最少找零硬币个数，具体找零的硬币列表\n",
    "    \"\"\"\n",
    "    min_coins_dict = {}\n",
    "    coins_used_dict = {}\n",
    "    coins_used_list = []\n",
    "    \n",
    "    for cents in range(change+1):\n",
    "        coin_count = cents\n",
    "        min_coins_dict[cents] = 0\n",
    "        new_coins = 1\n",
    "        for j in [c for c in coin_value_list if c <= cents]:\n",
    "            if min_coins_dict[cents-j] + 1 < coin_count:\n",
    "                coin_count = min_coins_dict[cents-j] + 1\n",
    "                new_coins = j\n",
    "        min_coins_dict[cents] = coin_count\n",
    "        coins_used_dict[cents] = new_coins\n",
    "        \n",
    "    coin = change\n",
    "    while coin > 0:\n",
    "        coins_used_list.append(coins_used_dict[coin])\n",
    "        coin = coin - coins_used_dict[coin]\n",
    "        \n",
    "    return min_coins_dict[change],coins_used_list"
   ],
   "metadata": {
    "collapsed": false,
    "pycharm": {
     "name": "#%% 代码实现\n",
     "is_executing": false
    }
   }
  },
  {
   "cell_type": "code",
   "execution_count": 8,
   "outputs": [
    {
     "name": "stdout",
     "text": [
      "最少找零硬币个数(递归)： 6\n最少找零硬币个数(非递归)： 6 [1, 1, 1, 10, 25, 25]\n"
     ],
     "output_type": "stream"
    }
   ],
   "source": [
    "if __name__ == '__main__':\n",
    "    \n",
    "    # 递归实现\n",
    "    print(\"最少找零硬币个数(递归)：\",rec_dc([1,5,10,25],63,[0]*64))\n",
    "    \n",
    "    # 非递归实现\n",
    "    count, coins_used_list = dp_make_change([1,5,10,25],63)\n",
    "    print(\"最少找零硬币个数(非递归)：\",count,coins_used_list)"
   ],
   "metadata": {
    "collapsed": false,
    "pycharm": {
     "name": "#%% 测试数据\n",
     "is_executing": false
    }
   }
  }
 ],
 "metadata": {
  "kernelspec": {
   "display_name": "Python 3",
   "language": "python",
   "name": "python3"
  },
  "language_info": {
   "codemirror_mode": {
    "name": "ipython",
    "version": 2
   },
   "file_extension": ".py",
   "mimetype": "text/x-python",
   "name": "python",
   "nbconvert_exporter": "python",
   "pygments_lexer": "ipython2",
   "version": "2.7.6"
  },
  "pycharm": {
   "stem_cell": {
    "cell_type": "raw",
    "source": [],
    "metadata": {
     "collapsed": false
    }
   }
  }
 },
 "nbformat": 4,
 "nbformat_minor": 0
}