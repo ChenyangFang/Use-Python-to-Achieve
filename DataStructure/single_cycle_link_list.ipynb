{
 "cells": [
  {
   "cell_type": "markdown",
   "metadata": {
    "collapsed": true,
    "pycharm": {
     "name": "#%% md\n"
    }
   },
   "source": [
    "## 单向循环链表\n",
    ">单链表的一个变形是单向循环链表，链表中最后一个节点的next域不再为None，\n",
    ">而是指向链表的头节点。\n",
    "\n",
    "### 节点示意图\n",
    "![单向循环链表节点示意图](/DataStructure/image/single_link_list_node.png)\n",
    "- 表元素域elem用来存放具体的数据。\n",
    "- 链接域next用来存放下一个节点的位置（python中的标识）\n",
    "\n",
    "### 单向循环链表示意图\n",
    "![单向循环链表示意图](/DataStructure/image/single_cycle_link_list.png)"
   ]
  },
  {
   "cell_type": "code",
   "execution_count": 1,
   "outputs": [],
   "source": [
    "# 节点的实现\n",
    "class Node(object):\n",
    "    \"\"\"节点\"\"\"\n",
    "    def __init__(self, item):\n",
    "        self.item = item\n",
    "        self.next = None\n",
    "        \n",
    "\n",
    "class SingleCycleLinkList(object):\n",
    "    \"\"\"单向循环链表\"\"\"\n",
    "    def __init__(self):\n",
    "        self._head = None\n",
    "\n",
    "    def is_empty(self):\n",
    "        \"\"\"判断链表是否为空\"\"\"\n",
    "        return self._head is None\n",
    "\n",
    "    def length(self):\n",
    "        \"\"\"返回链表的长度\"\"\"\n",
    "        # 如果链表为空，返回长度0\n",
    "        if self.is_empty():\n",
    "            return 0\n",
    "        count = 1\n",
    "        cur = self._head\n",
    "        while cur.next != self._head:\n",
    "            count += 1\n",
    "            cur = cur.next\n",
    "        return count\n",
    "\n",
    "    def travel(self):\n",
    "        \"\"\"遍历链表\"\"\"\n",
    "        if self.is_empty():\n",
    "            return\n",
    "        cur = self._head\n",
    "        print(cur.item)\n",
    "        while cur.next != self._head:\n",
    "            cur = cur.next\n",
    "            print(cur.item)\n",
    "        print(\"\")\n",
    "\n",
    "\n",
    "    def add(self, item):\n",
    "        \"\"\"头部添加节点\"\"\"\n",
    "        node = Node(item)\n",
    "        if self.is_empty():\n",
    "            self._head = node\n",
    "            node.next = self._head\n",
    "        else:\n",
    "            #添加的节点指向_head\n",
    "            node.next = self._head\n",
    "            # 移到链表尾部，将尾部节点的next指向node\n",
    "            cur = self._head\n",
    "            while cur.next != self._head:\n",
    "                cur = cur.next\n",
    "            cur.next = node\n",
    "            #_head指向添加node的\n",
    "            self._head = node\n",
    "\n",
    "    def append(self, item):\n",
    "        \"\"\"尾部添加节点\"\"\"\n",
    "        node = Node(item)\n",
    "        if self.is_empty():\n",
    "            self._head = node\n",
    "            node.next = self._head\n",
    "        else:\n",
    "            # 移到链表尾部\n",
    "            cur = self._head\n",
    "            while cur.next != self._head:\n",
    "                cur = cur.next\n",
    "            # 将尾节点指向node\n",
    "            cur.next = node\n",
    "            # 将node指向头节点_head\n",
    "            node.next = self._head\n",
    "\n",
    "    def insert(self, pos, item):\n",
    "        \"\"\"在指定位置添加节点\"\"\"\n",
    "        if pos <= 0:\n",
    "            self.add(item)\n",
    "        elif pos > (self.length()-1):\n",
    "            self.append(item)\n",
    "        else:\n",
    "            node = Node(item)\n",
    "            cur = self._head\n",
    "            count = 0\n",
    "            # 移动到指定位置的前一个位置\n",
    "            while count < (pos-1):\n",
    "                count += 1\n",
    "                cur = cur.next\n",
    "            node.next = cur.next\n",
    "            cur.next = node\n",
    "\n",
    "    def remove(self, item):\n",
    "        \"\"\"删除一个节点\"\"\"\n",
    "        # 若链表为空，则直接返回\n",
    "        if self.is_empty():\n",
    "            return\n",
    "        # 将cur指向头节点\n",
    "        cur = self._head\n",
    "        pre = None\n",
    "        # 若头节点的元素就是要查找的元素item\n",
    "        if cur.item == item:\n",
    "            # 如果链表不止一个节点\n",
    "            if cur.next != self._head:\n",
    "                # 先找到尾节点，将尾节点的next指向第二个节点\n",
    "                while cur.next != self._head:\n",
    "                    cur = cur.next\n",
    "                # cur指向了尾节点\n",
    "                cur.next = self._head.next\n",
    "                self._head = self._head.next\n",
    "            else:\n",
    "                # 链表只有一个节点\n",
    "                self._head = None\n",
    "        else:\n",
    "            pre = self._head\n",
    "            # 第一个节点不是要删除的\n",
    "            while cur.next != self._head:\n",
    "                # 找到了要删除的元素\n",
    "                if cur.item == item:\n",
    "                    # 删除\n",
    "                    pre.next = cur.next\n",
    "                    return\n",
    "                else:\n",
    "                    pre = cur\n",
    "                    cur = cur.next\n",
    "            # cur 指向尾节点\n",
    "            if cur.item == item:\n",
    "                # 尾部删除\n",
    "                pre.next = cur.next\n",
    "\n",
    "    def search(self, item):\n",
    "        \"\"\"查找节点是否存在\"\"\"\n",
    "        if self.is_empty():\n",
    "            return False\n",
    "        cur = self._head\n",
    "        if cur.item == item:\n",
    "            return True\n",
    "        while cur.next != self._head:\n",
    "            cur = cur.next\n",
    "            if cur.item == item:\n",
    "                return True\n",
    "        return False\n",
    "    "
   ],
   "metadata": {
    "collapsed": false,
    "pycharm": {
     "name": "#%% 代码实现\n",
     "is_executing": false
    }
   }
  },
  {
   "cell_type": "code",
   "execution_count": 2,
   "outputs": [
    {
     "name": "stdout",
     "text": [
      "length: 6\n6\n2\n1\n4\n3\n5\n\nTrue\nFalse\nlength: 5\n6\n2\n4\n3\n5\n\n"
     ],
     "output_type": "stream"
    }
   ],
   "source": [
    "if __name__ == \"__main__\":\n",
    "    scl_list = SingleCycleLinkList()\n",
    "    scl_list.add(1)\n",
    "    scl_list.add(2)\n",
    "    scl_list.append(3)\n",
    "    scl_list.insert(2, 4)\n",
    "    scl_list.insert(4, 5)\n",
    "    scl_list.insert(0, 6)\n",
    "    print(\"length:\",scl_list.length())\n",
    "    scl_list.travel()\n",
    "    print(scl_list.search(3))\n",
    "    print(scl_list.search(7))\n",
    "    scl_list.remove(1)\n",
    "    print(\"length:\",scl_list.length())\n",
    "    scl_list.travel()"
   ],
   "metadata": {
    "collapsed": false,
    "pycharm": {
     "name": "#%% 测试数据\n",
     "is_executing": false
    }
   }
  }
 ],
 "metadata": {
  "kernelspec": {
   "display_name": "Python 3",
   "language": "python",
   "name": "python3"
  },
  "language_info": {
   "codemirror_mode": {
    "name": "ipython",
    "version": 2
   },
   "file_extension": ".py",
   "mimetype": "text/x-python",
   "name": "python",
   "nbconvert_exporter": "python",
   "pygments_lexer": "ipython2",
   "version": "2.7.6"
  },
  "pycharm": {
   "stem_cell": {
    "cell_type": "raw",
    "source": [],
    "metadata": {
     "collapsed": false
    }
   }
  }
 },
 "nbformat": 4,
 "nbformat_minor": 0
}
