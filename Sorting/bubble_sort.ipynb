{
 "cells": [
  {
   "cell_type": "markdown",
   "metadata": {},
   "source": [
    "## 冒泡排序(Bubble Sort)\n",
    "> 冒泡排序是一种基础的排序算法，属于交换排序的一种，\n",
    ">基本的排序思路是：从头开始两两元素进行比较，大的元素就往上冒，\n",
    ">这样遍历一轮后，最大的元素就会直接筛选出来。然后再重复上述操作，\n",
    ">即可完成第二大元素的冒泡。以此类推，直到所有的元素排序完成。\n",
    ">\n",
    "### 算法原理\n",
    "1. 比较相邻的元素，如果第一个比第二个大，就交换它们两个(确定排序规则：从小到大或从大到小)；\n",
    "2. 对每一对相邻元素做同样的工作，从开始第一对到结尾的最后一对；\n",
    "3. 针对所有的元素重复以上的步骤，除了最后一个；\n",
    "4. 重复步骤1~3，直到排序完成。\n",
    "\n",
    "### 动画演示\n",
    "![冒泡排序](./image/bubble_sort.gif)"
   ]
  },
  {
   "cell_type": "code",
   "execution_count": 12,
   "metadata": {
    "pycharm": {
     "is_executing": false
    }
   },
   "outputs": [],
   "source": [
    "from typing import List\n",
    "\n",
    "\n",
    "# 冒泡排序\n",
    "def bubble_sort(arr: List[int]):\n",
    "    \"\"\"\n",
    "    冒泡排序\n",
    "    :param arr: 待排序的List\n",
    "    :return: 冒泡排序是就地排序(in-place)\n",
    "    \"\"\"\n",
    "    length = len(arr)\n",
    "    if length <= 1:\n",
    "        return\n",
    "\n",
    "    for i in range(length):\n",
    "        is_made_swap = False  ## 设置标志位，若本身已经有序，则直接break\n",
    "        for j in range(length - i - 1):\n",
    "            if arr[j] > arr[j + 1]:\n",
    "                arr[j], arr[j + 1] = arr[j + 1], arr[j]\n",
    "                is_made_swap = True\n",
    "        if not is_made_swap:\n",
    "            break\n"
   ]
  },
  {
   "cell_type": "code",
   "execution_count": 13,
   "metadata": {
    "pycharm": {
     "is_executing": false
    }
   },
   "outputs": [
    {
     "name": "stdout",
     "text": [
      "[10, 13, 18, 48, 49, 64, 70, 77, 78, 100]\n"
     ],
     "output_type": "stream"
    }
   ],
   "source": [
    "if __name__ == '__main__':\n",
    "    import random\n",
    "    arr = [random.randint(0,100) for _ in range(10)]\n",
    "    bubble_sort(arr)\n",
    "    print(arr)"
   ]
  }
 ],
 "metadata": {
  "kernelspec": {
   "display_name": "Python 3",
   "language": "python",
   "name": "python3"
  },
  "language_info": {
   "codemirror_mode": {
    "name": "ipython",
    "version": 3
   },
   "file_extension": ".py",
   "mimetype": "text/x-python",
   "name": "python",
   "nbconvert_exporter": "python",
   "pygments_lexer": "ipython3",
   "version": "3.7.5"
  },
  "pycharm": {
   "stem_cell": {
    "cell_type": "raw",
    "source": [],
    "metadata": {
     "collapsed": false
    }
   }
  }
 },
 "nbformat": 4,
 "nbformat_minor": 1
}