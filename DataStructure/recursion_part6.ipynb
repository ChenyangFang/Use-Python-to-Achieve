{
 "cells": [
  {
   "cell_type": "markdown",
   "metadata": {
    "collapsed": true,
    "pycharm": {
     "name": "#%% md\n"
    }
   },
   "source": [
    "## 迷宫路线求解\n"
   ]
  },
  {
   "cell_type": "code",
   "execution_count": 1,
   "outputs": [],
   "source": [
    "import turtle\n",
    "\n",
    "PART_OF_PATH = 'O'\t\t\t#部分路径\n",
    "TRIED = '.'\t\t\t\t\t#尝试\n",
    "OBSTACLE = '+'\t\t\t\t#障碍\n",
    "DEAD_END = '-'\t\t\t\t#死胡同\n",
    "\n",
    "# 迷宫类 \n",
    "class Maze(object):\n",
    "\t# 读取迷宫数据，初始化迷宫内部，并找到海龟初始位置。\n",
    "\tdef __init__(self, maze_file_name):\n",
    "\t\trows_in_maze = 0\t\t\t\t\t\t\t#初始化迷宫行数\n",
    "\t\tcolumns_in_maze = 0 \t\t\t\t\t\t#初始化迷宫列数\n",
    "\t\tself.maze_list = []\t\t\t\t\t\t#初始化迷宫列表\n",
    "\t\tmaze_path = open(maze_file_name, 'r')\t\t#读取迷宫文件\n",
    "\t\tfor line in maze_path:\t\t\t\t\t#按行读取\n",
    "\t\t\trow_list = [] \t\t\t\t\t\t#初始化行列表\n",
    "\t\t\tcol = 0 \t\t\t\t\t\t\t#初始化列\n",
    "\t\t\tfor ch in line.replace('\\n',''):\t#按列读取\n",
    "\t\t\t\trow_list.append(ch)\t\t\t\t#添加到行列表\n",
    "\t\t\t\tif ch == 'S':\t\t\t\t\t#S为乌龟初始位置，即迷宫起点\n",
    "\t\t\t\t\tself.start_row = rows_in_maze\t#乌龟初始行\n",
    "\t\t\t\t\tself.start_col = col \t\t#乌龟初始列\n",
    "\t\t\t\tcol = col + 1 \t\t\t\t\t#下一列\n",
    "\t\t\trows_in_maze = rows_in_maze + 1 \t\t#下一行\n",
    "\t\t\tself.maze_list.append(row_list)\t\t#行列表添加到迷宫列表\n",
    "\t\t\t\n",
    "\t\t\tprint(len(row_list))\n",
    "\t\t\tcolumns_in_maze = len(row_list) \t\t#获取迷宫总列\n",
    "\n",
    "\t\tself.rows_in_maze = rows_in_maze \t\t\t#设置迷宫总行数\n",
    "\t\tself.columns_in_maze = columns_in_maze\t\t#设置迷宫总列数\n",
    "\t\tself.x_translate = -columns_in_maze//2 \t\t#设置迷宫左上角的初始x坐标\n",
    "\t\tself.y_translate = rows_in_maze//2 \t\t\t#设置迷宫左上角的初始y坐标\n",
    "\t\tself.t = turtle.Turtle()\t\t\t\t#创建一个海龟对象\n",
    "\t\tself.t.shape('turtle')\t\t\t\t\t#给当前指示点设置样式(类似鼠标箭头)，海龟形状为参数指定的形状名，指定的形状名应存在于TurtleScreen的shape字典中。多边形的形状初始时有以下几种：\"arrow\", \"turtle\", \"circle\", \"square\", \"triangle\", \"classic\"。\n",
    "\t\tself.wn = turtle.Screen()\t\t\t\t#创建一个能在里面作图的窗口\n",
    "\t\tself.wn.setworldcoordinates(-columns_in_maze//2, -rows_in_maze//2, columns_in_maze//2, rows_in_maze//2)\t\t\t#设置世界坐标系，原点在迷宫正中心。参数依次为画布左下角x轴坐标、左下角y轴坐标、右上角x轴坐标、右上角y轴坐标\n",
    "\n",
    "\t# 在屏幕上绘制迷宫\n",
    "\tdef draw_maze(self):\n",
    "\t\tself.t.speed(20)\t\t\t\t\t\t#绘图速度\n",
    "\t\tfor y in range(self.rows_in_maze):\t\t#按单元格依次循环迷宫\n",
    "\t\t\tfor x in range(self.columns_in_maze):\n",
    "\t\t\t\tif self.maze_list[y][x] == OBSTACLE:\t#如果迷宫列表的该位置为障碍物，则画方块\n",
    "\t\t\t\t\tself.draw_centered_box(x + self.x_translate, -y + self.y_translate)\n",
    "\n",
    "\t# 画方块\n",
    "\tdef draw_centered_box(self, x, y, color=\"White\"):\n",
    "\t\tself.t.up()\t\t\t\t\t\t\t\t#画笔抬起\n",
    "\t\tself.t.goto(x - 0.5, y - 0.5)\t\t\t#前往参数位置，此处0.5偏移量的作用是使乌龟的探索路线在单元格的正中心位置\n",
    "\t\tself.t.color(color)\t\t\t\t\t\t#方块边框为橙色\n",
    "\t\tself.t.fillcolor(\"slategray\")\t\t\t\t#方块内填充色\n",
    "\t\tself.t.setheading(90)\t\t\t\t\t#设置海龟的朝向，标准模式：0 - 东，90 - 北，180 - 西，270 - 南。logo模式：0 - 北，90 - 东，180 - 南，270 - 西。\n",
    "\t\tself.t.down()\t\t\t\t\t\t\t#画笔落下\n",
    "\t\tself.t.begin_fill()\t\t\t\t\t\t#开始填充\n",
    "\t\tfor i in range(4):\t\t\t\t\t\t#画方块边框\n",
    "\t\t\tself.t.forward(1)\t\t\t\t\t#前进1个单位\n",
    "\t\t\tself.t.right(90)\t\t\t\t\t#右转90度\n",
    "\t\tself.t.end_fill()\t\t\t\t\t\t#结束填充\n",
    "\n",
    "\t# 移动海龟\n",
    "\tdef move_turtle(self, x, y):\n",
    "\t\tself.t.up()\t\t\t\t\t\t\t\t#画笔抬起\n",
    "        #setheading()设置海龟朝向，towards()从海龟位置到由(x, y)，矢量或另一海龟位置连线的夹角。此数值依赖于海龟初始朝向，\n",
    "        # 由\"standard\"、\"world\"或\"logo\" 模式设置所决定。\n",
    "\t\tself.t.setheading(self.t.towards(x + self.x_translate, -y + self.y_translate))\t\n",
    "\t\tself.t.goto(x + self.x_translate, -y + self.y_translate)\t#前往目标位置\n",
    "    \n",
    "    # 画路径圆点\n",
    "\tdef drop_bread_crumb(self, color):\n",
    "\t\tself.t.dot(color);\t\t\t\t\t#dot(size=None, color)画路径圆点\n",
    "        \n",
    "\t# 用以更新迷宫内的状态及在窗口中改变海龟位置，行列参数为乌龟的初始坐标。\n",
    "\tdef update_position(self, row, col, val):\n",
    "\t\tself.maze_list[row][col] = val \t\t\t#设置该标记状态为当前单元格的值\n",
    "\t\tself.move_turtle(col, row)\t\t\t\t#移动海龟\n",
    "\t\tif val == PART_OF_PATH: \t\t\t\t#其中一条成功路径的圆点的颜色\n",
    "\t\t\tcolor = 'lime'\n",
    "\t\telif val == TRIED:\t\t\t\t\t\t#尝试用的圆点的颜色\n",
    "\t\t\tcolor = 'black'\n",
    "\t\telif val == DEAD_END:\t\t\t\t\t#死胡同用的圆点的颜色\n",
    "\t\t\tcolor = 'red'\n",
    "\t\tself.drop_bread_crumb(color)\t\t\t\t#画路径圆点并上色\n",
    "\n",
    "\t# 用以判断当前位置是否为出口。\n",
    "\tdef is_exit(self, row, col):\n",
    "\t\treturn (row == 0 or row == self.rows_in_maze - 1 or col == 0 or col == self.columns_in_maze - 1)\t\t\t\t\t\t\t\t#根据海龟位置是否在迷宫的4个边线位置判断\n",
    "\n",
    "\t# 返回键对应的值，影响searchFrom()中maze[startRow][startColumn]值的获取\n",
    "\tdef __getitem__(self, key):\n",
    "\t\treturn self.maze_list[key]\n",
    "\n",
    "# 探索迷宫，注意此函数包括三个参数：一个迷宫对象、起始行、起始列。\n",
    "def search_from(maze, start_row, start_column):\n",
    "\t# 从初始位置开始尝试四个方向，直到找到出路。\n",
    "\t# 1. 遇到障碍\n",
    "\tif maze[start_row][start_column] == OBSTACLE:\n",
    "\t\treturn False\n",
    "\t# 2. 发现已经探索过的路径或死胡同\n",
    "\tif maze[start_row][start_column] == TRIED or maze[start_row][start_column]== DEAD_END:\n",
    "\t\treturn False\n",
    "\t# 3. 发现出口\n",
    "\tif maze.is_exit(start_row, start_column):\n",
    "\t\tmaze.update_position(start_row, start_column, PART_OF_PATH)#显示出口位置，注释则不显示此点\n",
    "\t\treturn True\n",
    "\tmaze.update_position(start_row, start_column, TRIED)#更新迷宫状态、设置海龟初始位置并开始尝试\n",
    "\t# 4. 依次尝试每个方向\n",
    "\tfound = search_from(maze, start_row - 1, start_column) or \\\n",
    "            search_from(maze, start_row + 1, start_column) or \\\n",
    "            search_from(maze, start_row, start_column - 1) or \\\n",
    "            search_from(maze, start_row, start_column + 1)\n",
    "\tif found:\t\t\t\t\t\t\t\t\t\t\t\t\t#找到出口\n",
    "\t\tmaze.update_position(start_row, start_column, PART_OF_PATH)#返回其中一条正确路径\n",
    "\telse:\t\t\t\t\t\t\t\t\t\t\t\t\t\t#4个方向均是死胡同\n",
    "\t\tmaze.update_position(start_row, start_column, DEAD_END)\n",
    "\treturn found"
   ],
   "metadata": {
    "collapsed": false,
    "pycharm": {
     "name": "#%% 代码实现\n",
     "is_executing": false
    }
   }
  },
  {
   "cell_type": "code",
   "execution_count": 2,
   "outputs": [
    {
     "name": "stdout",
     "text": [
      "22\n22\n22\n22\n22\n22\n22\n22\n22\n22\n22\n"
     ],
     "output_type": "stream"
    }
   ],
   "source": [
    "if __name__ == '__main__':\n",
    "    maze = Maze('maze.txt')\t#实例化迷宫类，maze文件是使用“+”字符作为墙壁围出空心正方形空间，并用字母“S”来表示起始位置的迷宫文本文件。\n",
    "    maze.draw_maze()\t\t\t#在屏幕上绘制迷宫。\n",
    "    search_from(maze, maze.start_row, maze.start_col)\t#探索迷宫"
   ],
   "metadata": {
    "collapsed": false,
    "pycharm": {
     "name": "#%% 测试数据\n",
     "is_executing": false
    }
   }
  }
 ],
 "metadata": {
  "kernelspec": {
   "display_name": "Python 3",
   "language": "python",
   "name": "python3"
  },
  "language_info": {
   "codemirror_mode": {
    "name": "ipython",
    "version": 2
   },
   "file_extension": ".py",
   "mimetype": "text/x-python",
   "name": "python",
   "nbconvert_exporter": "python",
   "pygments_lexer": "ipython2",
   "version": "2.7.6"
  },
  "pycharm": {
   "stem_cell": {
    "cell_type": "raw",
    "source": [],
    "metadata": {
     "collapsed": false
    }
   }
  }
 },
 "nbformat": 4,
 "nbformat_minor": 0
}