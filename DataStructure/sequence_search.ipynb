{
 "cells": [
  {
   "cell_type": "markdown",
   "metadata": {
    "collapsed": true,
    "pycharm": {
     "name": "#%% md\n"
    }
   },
   "source": [
    "## 顺序查找(Sequence Search)\n",
    ">在计算机科学中，线性搜索或顺序搜索是一种寻找某一特定值的搜索算法，\n",
    ">指按一定的顺序检查数组中每一个元素，直到找到所要寻找的特定值为止。\n",
    ">假定要从n个元素中查找 x 的值是否存在，最原始的方法是从头到尾挨个查找，\n",
    ">这种查找的方法叫顺序查找方法,是最简单的一种搜索算法。\n",
    "\n",
    "### 二分查找示意图\n",
    "![顺序查找示意图](/DataStructure/image/sequence_search.png)\n",
    "\n",
    "## 算法分析\n",
    "> 顺序查找有三种情形可能发生：最好的情况，第一项就是要查找的数据对象，只有一次比较，最差的情况，需要 n 次比较，全部比较完之后找不到数据。\n",
    ">平均情况下，比较次数为 n/2 次。算法的时间复杂度是 O(n) .\n"
   ]
  },
  {
   "cell_type": "code",
   "execution_count": 5,
   "outputs": [],
   "source": [
    "from typing import List\n",
    "\n",
    "def sequence_search(arr:List[int], item):\n",
    "    pos = 0 \n",
    "    while pos < len(arr):\n",
    "        if arr[pos] == item:\n",
    "            return True\n",
    "        else:\n",
    "            pos = pos + 1\n",
    "    return False"
   ],
   "metadata": {
    "collapsed": false,
    "pycharm": {
     "name": "#%% 代码实现\n",
     "is_executing": false
    }
   }
  },
  {
   "cell_type": "code",
   "execution_count": 6,
   "outputs": [
    {
     "name": "stdout",
     "text": [
      "原始数据为： [17, 56, 71, 38, 61, 62, 48, 28, 57, 42]\n输出结果为： True\n"
     ],
     "output_type": "stream"
    }
   ],
   "source": [
    "if __name__ == '__main__':\n",
    "    import random\n",
    "    random.seed(54)\n",
    "    arr = [random.randint(0,100) for _ in range(10)]\n",
    "    print(\"原始数据为：\", arr)\n",
    "    print(\"输出结果为：\", sequence_search(arr,17))"
   ],
   "metadata": {
    "collapsed": false,
    "pycharm": {
     "name": "#%% 测试数据\n",
     "is_executing": false
    }
   }
  }
 ],
 "metadata": {
  "kernelspec": {
   "display_name": "Python 3",
   "language": "python",
   "name": "python3"
  },
  "language_info": {
   "codemirror_mode": {
    "name": "ipython",
    "version": 2
   },
   "file_extension": ".py",
   "mimetype": "text/x-python",
   "name": "python",
   "nbconvert_exporter": "python",
   "pygments_lexer": "ipython2",
   "version": "2.7.6"
  },
  "pycharm": {
   "stem_cell": {
    "cell_type": "raw",
    "source": [],
    "metadata": {
     "collapsed": false
    }
   }
  }
 },
 "nbformat": 4,
 "nbformat_minor": 0
}