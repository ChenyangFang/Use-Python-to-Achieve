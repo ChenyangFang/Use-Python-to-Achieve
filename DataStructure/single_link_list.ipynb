{
 "cells": [
  {
   "cell_type": "markdown",
   "metadata": {
    "collapsed": true,
    "pycharm": {
     "name": "#%% md\n"
    }
   },
   "source": [
    "## 单向链表\n",
    ">单向链表也叫单链表，是链表中最简单的一种形式，它的每个节点包含两个域，\n",
    ">一个信息域（元素域）和一个链接域。这个链接指向链表中的下一个节点，\n",
    ">而最后一个节点的链接域则指向一个空值。\n",
    "\n",
    "### 节点示意图\n",
    "![单向链表节点示意图](https://raw.githubusercontent.com/lb971216008/Use-Python-to-Achieve/master/DataStructure/image/single_link_list_node.png)\n",
    "- 表元素域elem用来存放具体的数据。\n",
    "- 链接域next用来存放下一个节点的位置（python中的标识）\n",
    "\n",
    "### 单向链表示意图\n",
    "![单向链表示意图](https://raw.githubusercontent.com/lb971216008/Use-Python-to-Achieve/master/DataStructure/image/single_link_list.png)"
   ]
  },
  {
   "cell_type": "code",
   "execution_count": 1,
   "metadata": {
    "pycharm": {
     "is_executing": false,
     "name": "#%% 代码实现\n"
    }
   },
   "outputs": [],
   "source": [
    "# 节点的实现\n",
    "class SingleNode(object):\n",
    "    \"\"\"单链表的结点\"\"\"\n",
    "    def __init__(self,item):\n",
    "        # _item存放数据元素\n",
    "        self.item = item\n",
    "        # _next是下一个节点的标识\n",
    "        self.next = None\n",
    "        \n",
    "# 单向链表的实现\n",
    "class SingleLinkList(object):\n",
    "    \"\"\"单链表\"\"\"\n",
    "    def __init__(self):\n",
    "        self._head = None\n",
    "\n",
    "    def is_empty(self):\n",
    "        \"\"\"判断链表是否为空\"\"\"\n",
    "        return self._head is None\n",
    "\n",
    "    def length(self):\n",
    "        \"\"\"链表长度\"\"\"\n",
    "        # cur初始时指向头节点\n",
    "        cur = self._head\n",
    "        count = 0\n",
    "        # 尾节点指向None，当未到达尾部时\n",
    "        while cur is not None :\n",
    "            count += 1\n",
    "            # 将cur后移一个节点\n",
    "            cur = cur.next\n",
    "        return count\n",
    "\n",
    "    def travel(self):\n",
    "        \"\"\"遍历链表\"\"\"\n",
    "        cur = self._head\n",
    "        while cur is not None :\n",
    "            print(cur.item)\n",
    "            cur = cur.next\n",
    "        print(\"\")\n",
    "        \n",
    "    def add(self, item):\n",
    "        \"\"\"头部添加元素\"\"\"\n",
    "        # 先创建一个保存item值的节点\n",
    "        node = SingleNode(item)\n",
    "        # 将新节点的链接域next指向头节点，即_head指向的位置\n",
    "        node.next = self._head\n",
    "        # 将链表的头_head指向新节点\n",
    "        self._head = node\n",
    "    \n",
    "    def append(self, item):\n",
    "        \"\"\"尾部添加元素\"\"\"\n",
    "        node = SingleNode(item)\n",
    "        # 先判断链表是否为空，若是空链表，则将_head指向新节点\n",
    "        if self.is_empty():\n",
    "            self._head = node\n",
    "        # 若不为空，则找到尾部，将尾节点的next指向新节点\n",
    "        else:\n",
    "            cur = self._head\n",
    "            while cur.next is not None :\n",
    "                cur = cur.next\n",
    "            cur.next = node\n",
    "            \n",
    "    def insert(self, pos, item):\n",
    "        \"\"\"指定位置添加元素\"\"\"\n",
    "        # 若指定位置pos为第一个元素之前，则执行头部插入\n",
    "        if pos <= 0:\n",
    "            self.add(item)\n",
    "        # 若指定位置超过链表尾部，则执行尾部插入\n",
    "        elif pos > (self.length()-1):\n",
    "            self.append(item)\n",
    "        # 找到指定位置\n",
    "        else:\n",
    "            node = SingleNode(item)\n",
    "            count = 0\n",
    "            # pre用来指向指定位置pos的前一个位置pos-1，初始从头节点开始移动到指定位置\n",
    "            pre = self._head\n",
    "            while count < (pos-1):\n",
    "                count += 1\n",
    "                pre = pre.next\n",
    "            # 先将新节点node的next指向插入位置的节点\n",
    "            node.next = pre.next\n",
    "            # 将插入位置的前一个节点的next指向新节点\n",
    "            pre.next = node\n",
    "            \n",
    "    def remove(self,item):\n",
    "        \"\"\"删除节点\"\"\"\n",
    "        cur = self._head\n",
    "        pre = None\n",
    "        while cur is not None :\n",
    "            # 找到了指定元素\n",
    "            if cur.item == item:\n",
    "                # 如果第一个就是删除的节点\n",
    "                if not pre:\n",
    "                    # 将头指针指向头节点的后一个节点\n",
    "                    self._head = cur.next\n",
    "                else:\n",
    "                    # 将删除位置前一个节点的next指向删除位置的后一个节点\n",
    "                    pre.next = cur.next\n",
    "                break\n",
    "            else:\n",
    "                # 继续按链表后移节点\n",
    "                pre = cur\n",
    "                cur = cur.next\n",
    "    \n",
    "    def search(self,item):\n",
    "        \"\"\"链表查找节点是否存在，并返回True或者False\"\"\"\n",
    "        cur = self._head\n",
    "        while cur is not None :\n",
    "            if cur.item == item:\n",
    "                return True\n",
    "            cur = cur.next\n",
    "        return False\n",
    "    "
   ]
  },
  {
   "cell_type": "code",
   "execution_count": 2,
   "metadata": {
    "pycharm": {
     "is_executing": false,
     "name": "#%% 测试数据\n"
    }
   },
   "outputs": [
    {
     "name": "stdout",
     "output_type": "stream",
     "text": [
      "length: 4\n",
      "2\n",
      "1\n",
      "4\n",
      "3\n",
      "\n",
      "True\n",
      "False\n",
      "length: 3\n",
      "2\n",
      "4\n",
      "3\n",
      "\n"
     ]
    }
   ],
   "source": [
    "if __name__ == '__main__':\n",
    "    sl_list = SingleLinkList()\n",
    "    sl_list.add(1)\n",
    "    sl_list.add(2)\n",
    "    sl_list.append(3)\n",
    "    sl_list.insert(2, 4)\n",
    "    print(\"length:\",sl_list.length())\n",
    "    sl_list.travel()\n",
    "    print(sl_list.search(3))\n",
    "    print(sl_list.search(5))\n",
    "    sl_list.remove(1)\n",
    "    print(\"length:\",sl_list.length())\n",
    "    sl_list.travel()\n"
   ]
  }
 ],
 "metadata": {
  "kernelspec": {
   "display_name": "Python 3",
   "language": "python",
   "name": "python3"
  },
  "language_info": {
   "codemirror_mode": {
    "name": "ipython",
    "version": 3
   },
   "file_extension": ".py",
   "mimetype": "text/x-python",
   "name": "python",
   "nbconvert_exporter": "python",
   "pygments_lexer": "ipython3",
   "version": "3.7.5"
  },
  "pycharm": {
   "stem_cell": {
    "cell_type": "raw",
    "metadata": {
     "collapsed": false
    },
    "source": []
   }
  }
 },
 "nbformat": 4,
 "nbformat_minor": 1
}
