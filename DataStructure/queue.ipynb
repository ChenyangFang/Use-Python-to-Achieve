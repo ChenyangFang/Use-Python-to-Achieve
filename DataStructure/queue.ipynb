{
 "cells": [
  {
   "cell_type": "markdown",
   "metadata": {
    "collapsed": true,
    "pycharm": {
     "name": "#%% md\n"
    }
   },
   "source": [
    "## 队列\n",
    ">队列（queue）是只允许在一端进行插入操作，而在另一端进行删除操作的线性表。\n",
    ">队列是一种先进先出的（First In First Out）的线性表，简称FIFO。\n",
    ">允许插入的一端为队尾，允许删除的一端为队头。队列不允许在中间部位进行操作！\n",
    ">假设队列是q=（a1，a2，……，an），那么a1就是队头元素，而an是队尾元素。\n",
    ">这样我们就可以删除时，总是从a1开始，而插入时，总是在队列最后。\n",
    ">这也比较符合我们通常生活中的习惯，排在第一个的优先出列，最后来的当然排在队伍最后。\n",
    ">同栈一样，队列也可以用顺序表或者链表实现。\n",
    "\n",
    "### 队列的结构示意图\n",
    "![队列的结构示意图](https://raw.githubusercontent.com/lb971216008/Use-Python-to-Achieve/master/DataStructure/image/queue.png)"
   ]
  },
  {
   "cell_type": "code",
   "execution_count": 3,
   "outputs": [
    {
     "name": "stdout",
     "text": [
      "队列的大小为： 4\n1\n2\n3\n4\n队列的大小为： 0\n队列是否为空： True\n"
     ],
     "output_type": "stream"
    }
   ],
   "source": [
    "class Queue(object):\n",
    "    \"\"\"队列\"\"\"\n",
    "    def __init__(self):\n",
    "        self.items = []\n",
    "\n",
    "    def is_empty(self):\n",
    "        return self.size() == 0\n",
    "\n",
    "    def enqueue(self, item):\n",
    "        \"\"\"进队列\"\"\"\n",
    "        self.items.insert(0,item)\n",
    "\n",
    "    def dequeue(self):\n",
    "        \"\"\"出队列\"\"\"\n",
    "        return self.items.pop()\n",
    "\n",
    "    def size(self):\n",
    "        \"\"\"返回大小\"\"\"\n",
    "        return len(self.items)"
   ],
   "metadata": {
    "collapsed": false,
    "pycharm": {
     "name": "#%% 代码实现\n",
     "is_executing": false
    }
   }
  },
  {
   "cell_type": "code",
   "execution_count": null,
   "outputs": [],
   "source": [
    "if __name__ == \"__main__\":\n",
    "    q = Queue()\n",
    "    q.enqueue(1)\n",
    "    q.enqueue(2)\n",
    "    q.enqueue(3)\n",
    "    q.enqueue(4)\n",
    "    print(\"队列的大小为：\", q.size())\n",
    "    print(q.dequeue())\n",
    "    print(q.dequeue())\n",
    "    print(q.dequeue())\n",
    "    print(q.dequeue())\n",
    "    print(\"队列的大小为：\", q.size())\n",
    "    print(\"队列是否为空：\", q.is_empty())\n",
    "\n",
    "\n"
   ],
   "metadata": {
    "collapsed": false,
    "pycharm": {
     "name": "#%% 测试数据\n"
    }
   }
  }
 ],
 "metadata": {
  "kernelspec": {
   "display_name": "Python 3",
   "language": "python",
   "name": "python3"
  },
  "language_info": {
   "codemirror_mode": {
    "name": "ipython",
    "version": 2
   },
   "file_extension": ".py",
   "mimetype": "text/x-python",
   "name": "python",
   "nbconvert_exporter": "python",
   "pygments_lexer": "ipython2",
   "version": "2.7.6"
  },
  "pycharm": {
   "stem_cell": {
    "cell_type": "raw",
    "source": [],
    "metadata": {
     "collapsed": false
    }
   }
  }
 },
 "nbformat": 4,
 "nbformat_minor": 0
}