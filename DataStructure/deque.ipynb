{
 "cells": [
  {
   "cell_type": "markdown",
   "metadata": {
    "collapsed": true,
    "pycharm": {
     "name": "#%% md\n"
    }
   },
   "source": [
    "## 双端队列\n",
    ">双端队列（deque，全名double-ended queue），是一种具有队列和栈的性质的数据结构。\n",
    ">双端队列中的元素可以从两端弹出，其限定插入和删除操作在表的两端进行。\n",
    ">双端队列可以在队列任意一端入队和出队。\n",
    "\n",
    "### 双端队列结构示意图\n",
    "![双端队列的结构示意图](https://raw.githubusercontent.com/lb971216008/Use-Python-to-Achieve/master/DataStructure/image/deque.png)"
   ]
  },
  {
   "cell_type": "code",
   "execution_count": 1,
   "outputs": [],
   "source": [
    "class Deque(object):\n",
    "    \"\"\"双端队列\"\"\"\n",
    "    def __init__(self):\n",
    "        self.items = []\n",
    "\n",
    "    def is_empty(self):\n",
    "        \"\"\"判断队列是否为空\"\"\"\n",
    "        return self.size() == 0\n",
    "\n",
    "    def add_front(self, item):\n",
    "        \"\"\"在队头添加元素\"\"\"\n",
    "        self.items.insert(0,item)\n",
    "\n",
    "    def add_rear(self, item):\n",
    "        \"\"\"在队尾添加元素\"\"\"\n",
    "        self.items.append(item)\n",
    "\n",
    "    def remove_front(self):\n",
    "        \"\"\"从队头删除元素\"\"\"\n",
    "        return self.items.pop(0)\n",
    "\n",
    "    def remove_rear(self):\n",
    "        \"\"\"从队尾删除元素\"\"\"\n",
    "        return self.items.pop()\n",
    "\n",
    "    def size(self):\n",
    "        \"\"\"返回队列大小\"\"\"\n",
    "        return len(self.items)"
   ],
   "metadata": {
    "collapsed": false,
    "pycharm": {
     "name": "#%% 代码实现\n",
     "is_executing": false
    }
   }
  },
  {
   "cell_type": "code",
   "execution_count": 2,
   "outputs": [
    {
     "name": "stdout",
     "text": [
      "队列大小为： 4\n2\n1\n4\n3\n队列大小为： 0\n队列是否为空： True\n"
     ],
     "output_type": "stream"
    }
   ],
   "source": [
    "if __name__ == \"__main__\":\n",
    "    deque = Deque()\n",
    "    deque.add_front(1)\n",
    "    deque.add_front(2)\n",
    "    deque.add_rear(3)\n",
    "    deque.add_rear(4)\n",
    "    print(\"队列大小为：\", deque.size())\n",
    "    print(deque.remove_front())\n",
    "    print(deque.remove_front())\n",
    "    print(deque.remove_rear())\n",
    "    print(deque.remove_rear())\n",
    "    print(\"队列大小为：\", deque.size())\n",
    "    print(\"队列是否为空：\", deque.is_empty())\n",
    "\n"
   ],
   "metadata": {
    "collapsed": false,
    "pycharm": {
     "name": "#%% 测试数据\n",
     "is_executing": false
    }
   }
  }
 ],
 "metadata": {
  "kernelspec": {
   "display_name": "Python 3",
   "language": "python",
   "name": "python3"
  },
  "language_info": {
   "codemirror_mode": {
    "name": "ipython",
    "version": 2
   },
   "file_extension": ".py",
   "mimetype": "text/x-python",
   "name": "python",
   "nbconvert_exporter": "python",
   "pygments_lexer": "ipython2",
   "version": "2.7.6"
  },
  "pycharm": {
   "stem_cell": {
    "cell_type": "raw",
    "source": [],
    "metadata": {
     "collapsed": false
    }
   }
  }
 },
 "nbformat": 4,
 "nbformat_minor": 0
}